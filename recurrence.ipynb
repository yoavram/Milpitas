{
 "cells": [
  {
   "cell_type": "code",
   "execution_count": 54,
   "metadata": {
    "collapsed": false
   },
   "outputs": [],
   "source": [
    "%matplotlib inline\n",
    "import matplotlib.pyplot as plt\n",
    "import numpy as np\n",
    "import seaborn as sns\n",
    "sns.set(style='ticks', context='paper', font_scale=2)\n",
    "red, blue, green, purple, orange, yellow = sns.color_palette('Set1', 6)\n",
    "from simulation import *\n",
    "from plots import *"
   ]
  },
  {
   "cell_type": "code",
   "execution_count": 5,
   "metadata": {
    "collapsed": true
   },
   "outputs": [],
   "source": [
    "from sympy import *\n",
    "init_printing()"
   ]
  },
  {
   "cell_type": "code",
   "execution_count": 6,
   "metadata": {
    "collapsed": false
   },
   "outputs": [],
   "source": [
    "x, ωA, ωB, η = symbols('x ωA ωB η')\n",
    "a = (1 - η) * (ωA - ωB)\n",
    "b = η * ωA + (1 - η) * ωB\n",
    "c = ωA - ωB\n",
    "d = ωB\n",
    "α = -a \n",
    "β = -b + ωA + ωB\n",
    "γ = -c\n",
    "δ = ωA"
   ]
  },
  {
   "cell_type": "code",
   "execution_count": 7,
   "metadata": {
    "collapsed": false
   },
   "outputs": [
    {
     "data": {
      "image/png": "[encoded data removed]",
      "text/latex": [
       "$$\\frac{x}{x \\left(ωA - ωB\\right) + ωB} \\left(x \\left(- η + 1\\right) \\left(ωA - ωB\\right) + η ωA + ωB \\left(- η + 1\\right)\\right)$$"
      ],
      "text/plain": [
       "x⋅(x⋅(-η + 1)⋅(ωA - ωB) + η⋅ωA + ωB⋅(-η + 1))\n",
       "─────────────────────────────────────────────\n",
       "               x⋅(ωA - ωB) + ωB              "
      ]
     },
     "execution_count": 7,
     "metadata": {},
     "output_type": "execute_result"
    }
   ],
   "source": [
    "xx = x * (a * x + b)/(c * x + d)\n",
    "xx"
   ]
  },
  {
   "cell_type": "code",
   "execution_count": 8,
   "metadata": {
    "collapsed": false
   },
   "outputs": [
    {
     "data": {
      "text/latex": [
       "$$\\left\\{0, 1\\right\\} \\setminus \\left\\{- \\frac{ωB}{ωA - ωB}\\right\\}$$"
      ],
      "text/plain": [
       "         ⎧  -ωB  ⎫\n",
       "{0, 1} \\ ⎨───────⎬\n",
       "         ⎩ωA - ωB⎭"
      ]
     },
     "execution_count": 8,
     "metadata": {},
     "output_type": "execute_result"
    }
   ],
   "source": [
    "solveset(xx - x, x)"
   ]
  },
  {
   "cell_type": "code",
   "execution_count": 9,
   "metadata": {
    "collapsed": false
   },
   "outputs": [
    {
     "data": {
      "image/png": "[encoded data removed]",
      "text/latex": [
       "$$\\frac{x \\left(x \\left(- η + 1\\right) \\left(ωA - ωB\\right) + η ωA + ωB \\left(- η + 1\\right)\\right) \\left(- \\frac{x}{x \\left(ωA - ωB\\right) + ωB} \\left(- η + 1\\right) \\left(ωA - ωB\\right) \\left(x \\left(- η + 1\\right) \\left(ωA - ωB\\right) + η ωA + ωB \\left(- η + 1\\right)\\right) - η ωA + ωA - ωB \\left(- η + 1\\right) + ωB\\right)}{\\left(x \\left(ωA - ωB\\right) + ωB\\right) \\left(\\frac{x}{x \\left(ωA - ωB\\right) + ωB} \\left(- ωA + ωB\\right) \\left(x \\left(- η + 1\\right) \\left(ωA - ωB\\right) + η ωA + ωB \\left(- η + 1\\right)\\right) + ωA\\right)}$$"
      ],
      "text/plain": [
       "                                              ⎛  x⋅(-η + 1)⋅(ωA - ωB)⋅(x⋅(-η +\n",
       "x⋅(x⋅(-η + 1)⋅(ωA - ωB) + η⋅ωA + ωB⋅(-η + 1))⋅⎜- ─────────────────────────────\n",
       "                                              ⎝                          x⋅(ωA\n",
       "──────────────────────────────────────────────────────────────────────────────\n",
       "                                                   ⎛x⋅(-ωA + ωB)⋅(x⋅(-η + 1)⋅(\n",
       "                                (x⋅(ωA - ωB) + ωB)⋅⎜──────────────────────────\n",
       "                                                   ⎝                    x⋅(ωA \n",
       "\n",
       " 1)⋅(ωA - ωB) + η⋅ωA + ωB⋅(-η + 1))                               ⎞\n",
       "─────────────────────────────────── - η⋅ωA + ωA - ωB⋅(-η + 1) + ωB⎟\n",
       " - ωB) + ωB                                                       ⎠\n",
       "───────────────────────────────────────────────────────────────────\n",
       "ωA - ωB) + η⋅ωA + ωB⋅(-η + 1))     ⎞                               \n",
       "────────────────────────────── + ωA⎟                               \n",
       "- ωB) + ωB                         ⎠                               "
      ]
     },
     "execution_count": 9,
     "metadata": {},
     "output_type": "execute_result"
    }
   ],
   "source": [
    "xxx = xx  * (α * xx + β) / (γ * xx + δ)\n",
    "xxx"
   ]
  },
  {
   "cell_type": "code",
   "execution_count": 10,
   "metadata": {
    "collapsed": false
   },
   "outputs": [
    {
     "data": {
      "image/png": "[encoded data removed]",
      "text/latex": [
       "$$- \\frac{x \\left(- x \\left(η - 1\\right) \\left(ωA - ωB\\right) \\left(x \\left(η - 1\\right) \\left(ωA - ωB\\right) - η ωA + ωB \\left(η - 1\\right)\\right) + \\left(x \\left(ωA - ωB\\right) + ωB\\right) \\left(- η ωA + ωA + ωB \\left(η - 1\\right) + ωB\\right)\\right) \\left(x \\left(η - 1\\right) \\left(ωA - ωB\\right) - η ωA + ωB \\left(η - 1\\right)\\right)}{\\left(x \\left(ωA - ωB\\right) + ωB\\right) \\left(x \\left(ωA - ωB\\right) \\left(x \\left(η - 1\\right) \\left(ωA - ωB\\right) - η ωA + ωB \\left(η - 1\\right)\\right) + ωA \\left(x \\left(ωA - ωB\\right) + ωB\\right)\\right)}$$"
      ],
      "text/plain": [
       "-x⋅(-x⋅(η - 1)⋅(ωA - ωB)⋅(x⋅(η - 1)⋅(ωA - ωB) - η⋅ωA + ωB⋅(η - 1)) + (x⋅(ωA - \n",
       "──────────────────────────────────────────────────────────────────────────────\n",
       "                                (x⋅(ωA - ωB) + ωB)⋅(x⋅(ωA - ωB)⋅(x⋅(η - 1)⋅(ωA\n",
       "\n",
       "ωB) + ωB)⋅(-η⋅ωA + ωA + ωB⋅(η - 1) + ωB))⋅(x⋅(η - 1)⋅(ωA - ωB) - η⋅ωA + ωB⋅(η \n",
       "──────────────────────────────────────────────────────────────────────────────\n",
       " - ωB) - η⋅ωA + ωB⋅(η - 1)) + ωA⋅(x⋅(ωA - ωB) + ωB))                          \n",
       "\n",
       "- 1)) \n",
       "──────\n",
       "      "
      ]
     },
     "execution_count": 10,
     "metadata": {},
     "output_type": "execute_result"
    }
   ],
   "source": [
    "xxx = simplify(xxx)\n",
    "xxx"
   ]
  },
  {
   "cell_type": "code",
   "execution_count": 11,
   "metadata": {
    "collapsed": false
   },
   "outputs": [
    {
     "data": {
      "text/latex": [
       "$$\\left\\{0, 1, - \\frac{1}{2 η ωA - 2 η ωB - 4 ωA + 4 ωB} \\left(- η ωA + η ωB + ωA - 3 ωB + \\sqrt{η^{2} ωA^{2} - 2 η^{2} ωA ωB + η^{2} ωB^{2} - 2 η ωA^{2} + 4 η ωA ωB - 2 η ωB^{2} + ωA^{2} + 2 ωA ωB + ωB^{2}}\\right), \\frac{1}{2 η ωA - 2 η ωB - 4 ωA + 4 ωB} \\left(η ωA - η ωB - ωA + 3 ωB + \\sqrt{η^{2} ωA^{2} - 2 η^{2} ωA ωB + η^{2} ωB^{2} - 2 η ωA^{2} + 4 η ωA ωB - 2 η ωB^{2} + ωA^{2} + 2 ωA ωB + ωB^{2}}\\right)\\right\\} \\setminus \\left\\{- \\frac{ωB}{ωA - ωB}, - \\frac{\\sqrt{\\left(η - 1\\right) \\left(η ωA^{2} - 2 η ωA ωB + η ωB^{2} - ωA^{2} - 2 ωA ωB - ωB^{2}\\right)} \\left(ωA - ωB\\right)}{2 η ωA^{2} - 4 η ωA ωB + 2 η ωB^{2} - 2 ωA^{2} + 4 ωA ωB - 2 ωB^{2}} + \\frac{1}{2}, \\frac{\\sqrt{\\left(η - 1\\right) \\left(η ωA^{2} - 2 η ωA ωB + η ωB^{2} - ωA^{2} - 2 ωA ωB - ωB^{2}\\right)} \\left(ωA - ωB\\right)}{2 η ωA^{2} - 4 η ωA ωB + 2 η ωB^{2} - 2 ωA^{2} + 4 ωA ωB - 2 ωB^{2}} + \\frac{1}{2}\\right\\}$$"
      ],
      "text/plain": [
       "⎧       ⎛                              _______________________________________\n",
       "⎪       ⎜                             ╱  2   2      2          2   2         2\n",
       "⎨      -⎝-η⋅ωA + η⋅ωB + ωA - 3⋅ωB + ╲╱  η ⋅ωA  - 2⋅η ⋅ωA⋅ωB + η ⋅ωB  - 2⋅η⋅ωA \n",
       "⎪0, 1, ───────────────────────────────────────────────────────────────────────\n",
       "⎩                                                  2⋅η⋅ωA - 2⋅η⋅ωB - 4⋅ωA + 4⋅\n",
       "                                                                              \n",
       "                                                                              \n",
       "\n",
       "_____________________________________________⎞                                \n",
       "                     2     2               2 ⎟                               ╱\n",
       " + 4⋅η⋅ωA⋅ωB - 2⋅η⋅ωB  + ωA  + 2⋅ωA⋅ωB + ωB  ⎠   η⋅ωA - η⋅ωB - ωA + 3⋅ωB + ╲╱ \n",
       "───────────────────────────────────────────────, ─────────────────────────────\n",
       "ωB                                                                            \n",
       "                                                                              \n",
       "                                                                              \n",
       "\n",
       "______________________________________________________________________________\n",
       "  2   2      2          2   2         2                     2     2           \n",
       " η ⋅ωA  - 2⋅η ⋅ωA⋅ωB + η ⋅ωB  - 2⋅η⋅ωA  + 4⋅η⋅ωA⋅ωB - 2⋅η⋅ωB  + ωA  + 2⋅ωA⋅ωB \n",
       "──────────────────────────────────────────────────────────────────────────────\n",
       "             2⋅η⋅ωA - 2⋅η⋅ωB - 4⋅ωA + 4⋅ωB                                    \n",
       "                                                                              \n",
       "                                                                              \n",
       "\n",
       "______⎫   ⎧              _____________________________________________________\n",
       "    2 ⎪   ⎪             ╱         ⎛    2                   2     2            \n",
       "+ ωB  ⎬   ⎪  -ωB      ╲╱  (η - 1)⋅⎝η⋅ωA  - 2⋅η⋅ωA⋅ωB + η⋅ωB  - ωA  - 2⋅ωA⋅ωB -\n",
       "──────⎪ \\ ⎨───────, - ────────────────────────────────────────────────────────\n",
       "      ⎭   ⎪ωA - ωB                ⎛    2                   2     2            \n",
       "          ⎪                     2⋅⎝η⋅ωA  - 2⋅η⋅ωA⋅ωB + η⋅ωB  - ωA  + 2⋅ωA⋅ωB -\n",
       "          ⎩                                                                   \n",
       "\n",
       "______                   _____________________________________________________\n",
       "   2⎞                   ╱         ⎛    2                   2     2            \n",
       " ωB ⎠ ⋅(ωA - ωB)   1  ╲╱  (η - 1)⋅⎝η⋅ωA  - 2⋅η⋅ωA⋅ωB + η⋅ωB  - ωA  - 2⋅ωA⋅ωB -\n",
       "──────────────── + ─, ────────────────────────────────────────────────────────\n",
       "   2⎞              2              ⎛    2                   2     2            \n",
       " ωB ⎠                           2⋅⎝η⋅ωA  - 2⋅η⋅ωA⋅ωB + η⋅ωB  - ωA  + 2⋅ωA⋅ωB -\n",
       "                                                                              \n",
       "\n",
       "______              ⎫\n",
       "   2⎞               ⎪\n",
       " ωB ⎠ ⋅(ωA - ωB)   1⎪\n",
       "──────────────── + ─⎬\n",
       "   2⎞              2⎪\n",
       " ωB ⎠               ⎪\n",
       "                    ⎭"
      ]
     },
     "execution_count": 11,
     "metadata": {},
     "output_type": "execute_result"
    }
   ],
   "source": [
    "sols = solveset(xxx - x, x)\n",
    "sols"
   ]
  },
  {
   "cell_type": "code",
   "execution_count": 12,
   "metadata": {
    "collapsed": false
   },
   "outputs": [
    {
     "name": "stdout",
     "output_type": "stream",
     "text": [
      "{0, 1, -(-η*ωA + η*ωB + ωA - 3*ωB + sqrt(η**2*ωA**2 - 2*η**2*ωA*ωB + η**2*ωB**2 - 2*η*ωA**2 + 4*η*ωA*ωB - 2*η*ωB**2 + ωA**2 + 2*ωA*ωB + ωB**2))/(2*η*ωA - 2*η*ωB - 4*ωA + 4*ωB), (η*ωA - η*ωB - ωA + 3*ωB + sqrt(η**2*ωA**2 - 2*η**2*ωA*ωB + η**2*ωB**2 - 2*η*ωA**2 + 4*η*ωA*ωB - 2*η*ωB**2 + ωA**2 + 2*ωA*ωB + ωB**2))/(2*η*ωA - 2*η*ωB - 4*ωA + 4*ωB)} \\ {-ωB/(ωA - ωB), -sqrt((η - 1)*(η*ωA**2 - 2*η*ωA*ωB + η*ωB**2 - ωA**2 - 2*ωA*ωB - ωB**2))*(ωA - ωB)/(2*(η*ωA**2 - 2*η*ωA*ωB + η*ωB**2 - ωA**2 + 2*ωA*ωB - ωB**2)) + 1/2, sqrt((η - 1)*(η*ωA**2 - 2*η*ωA*ωB + η*ωB**2 - ωA**2 - 2*ωA*ωB - ωB**2))*(ωA - ωB)/(2*(η*ωA**2 - 2*η*ωA*ωB + η*ωB**2 - ωA**2 + 2*ωA*ωB - ωB**2)) + 1/2}\n"
     ]
    }
   ],
   "source": [
    "print(sols)"
   ]
  },
  {
   "cell_type": "code",
   "execution_count": 13,
   "metadata": {
    "collapsed": false
   },
   "outputs": [],
   "source": [
    "sol0, sol1, sol2, sol3 = 0, 1, -(-η*ωA + η*ωB + ωA - 3*ωB + sqrt(η**2*ωA**2 - 2*η**2*ωA*ωB + η**2*ωB**2 - 2*η*ωA**2 + 4*η*ωA*ωB - 2*η*ωB**2 + ωA**2 + 2*ωA*ωB + ωB**2))/(2*η*ωA - 2*η*ωB - 4*ωA + 4*ωB), (η*ωA - η*ωB - ωA + 3*ωB + sqrt(η**2*ωA**2 - 2*η**2*ωA*ωB + η**2*ωB**2 - 2*η*ωA**2 + 4*η*ωA*ωB - 2*η*ωB**2 + ωA**2 + 2*ωA*ωB + ωB**2))/(2*η*ωA - 2*η*ωB - 4*ωA + 4*ωB)"
   ]
  },
  {
   "cell_type": "code",
   "execution_count": 14,
   "metadata": {
    "collapsed": false
   },
   "outputs": [
    {
     "data": {
      "image/png": "[encoded data removed]",
      "text/latex": [
       "$$\\frac{1}{2 η ωA - 2 η ωB - 4 ωA + 4 ωB} \\left(η ωA - η ωB - ωA + 3 ωB - \\sqrt{η^{2} ωA^{2} - 2 η^{2} ωA ωB + η^{2} ωB^{2} - 2 η ωA^{2} + 4 η ωA ωB - 2 η ωB^{2} + ωA^{2} + 2 ωA ωB + ωB^{2}}\\right)$$"
      ],
      "text/plain": [
       "                             _________________________________________________\n",
       "                            ╱  2   2      2          2   2         2          \n",
       "η⋅ωA - η⋅ωB - ωA + 3⋅ωB - ╲╱  η ⋅ωA  - 2⋅η ⋅ωA⋅ωB + η ⋅ωB  - 2⋅η⋅ωA  + 4⋅η⋅ωA⋅\n",
       "──────────────────────────────────────────────────────────────────────────────\n",
       "                                          2⋅η⋅ωA - 2⋅η⋅ωB - 4⋅ωA + 4⋅ωB       \n",
       "\n",
       "___________________________________\n",
       "           2     2               2 \n",
       "ωB - 2⋅η⋅ωB  + ωA  + 2⋅ωA⋅ωB + ωB  \n",
       "───────────────────────────────────\n",
       "                                   "
      ]
     },
     "execution_count": 14,
     "metadata": {},
     "output_type": "execute_result"
    }
   ],
   "source": [
    "sol2"
   ]
  },
  {
   "cell_type": "code",
   "execution_count": 15,
   "metadata": {
    "collapsed": false
   },
   "outputs": [
    {
     "data": {
      "image/png": "[encoded data removed]",
      "text/latex": [
       "$$\\frac{1}{2 η ωA - 2 η ωB - 4 ωA + 4 ωB} \\left(η ωA - η ωB - ωA + 3 ωB + \\sqrt{η^{2} ωA^{2} - 2 η^{2} ωA ωB + η^{2} ωB^{2} - 2 η ωA^{2} + 4 η ωA ωB - 2 η ωB^{2} + ωA^{2} + 2 ωA ωB + ωB^{2}}\\right)$$"
      ],
      "text/plain": [
       "                             _________________________________________________\n",
       "                            ╱  2   2      2          2   2         2          \n",
       "η⋅ωA - η⋅ωB - ωA + 3⋅ωB + ╲╱  η ⋅ωA  - 2⋅η ⋅ωA⋅ωB + η ⋅ωB  - 2⋅η⋅ωA  + 4⋅η⋅ωA⋅\n",
       "──────────────────────────────────────────────────────────────────────────────\n",
       "                                          2⋅η⋅ωA - 2⋅η⋅ωB - 4⋅ωA + 4⋅ωB       \n",
       "\n",
       "___________________________________\n",
       "           2     2               2 \n",
       "ωB - 2⋅η⋅ωB  + ωA  + 2⋅ωA⋅ωB + ωB  \n",
       "───────────────────────────────────\n",
       "                                   "
      ]
     },
     "execution_count": 15,
     "metadata": {},
     "output_type": "execute_result"
    }
   ],
   "source": [
    "sol3"
   ]
  },
  {
   "cell_type": "code",
   "execution_count": 16,
   "metadata": {
    "collapsed": false
   },
   "outputs": [
    {
     "data": {
      "image/png": "[encoded data removed]",
      "text/latex": [
       "$$\\frac{1}{η ωA - η ωB - 2 ωA + 2 ωB} \\left(x^{2} η ωA - x^{2} η ωB - 2 x^{2} ωA + 2 x^{2} ωB - x η ωA + x η ωB + x ωA - 3 x ωB + ωB\\right)$$"
      ],
      "text/plain": [
       " 2         2           2         2                                          \n",
       "x ⋅η⋅ωA - x ⋅η⋅ωB - 2⋅x ⋅ωA + 2⋅x ⋅ωB - x⋅η⋅ωA + x⋅η⋅ωB + x⋅ωA - 3⋅x⋅ωB + ωB\n",
       "────────────────────────────────────────────────────────────────────────────\n",
       "                         η⋅ωA - η⋅ωB - 2⋅ωA + 2⋅ωB                          "
      ]
     },
     "execution_count": 16,
     "metadata": {},
     "output_type": "execute_result"
    }
   ],
   "source": [
    "simplify((x-sol2)*(x-sol3))"
   ]
  },
  {
   "cell_type": "code",
   "execution_count": 17,
   "metadata": {
    "collapsed": false
   },
   "outputs": [
    {
     "data": {
      "image/png": "[encoded data removed]",
      "text/latex": [
       "$$- \\frac{1}{η ωA - η ωB - 2 ωA + 2 ωB} \\sqrt{η^{2} ωA^{2} - 2 η^{2} ωA ωB + η^{2} ωB^{2} - 2 η ωA^{2} + 4 η ωA ωB - 2 η ωB^{2} + ωA^{2} + 2 ωA ωB + ωB^{2}}$$"
      ],
      "text/plain": [
       "    __________________________________________________________________________\n",
       "   ╱  2   2      2          2   2         2                     2     2       \n",
       "-╲╱  η ⋅ωA  - 2⋅η ⋅ωA⋅ωB + η ⋅ωB  - 2⋅η⋅ωA  + 4⋅η⋅ωA⋅ωB - 2⋅η⋅ωB  + ωA  + 2⋅ωA\n",
       "──────────────────────────────────────────────────────────────────────────────\n",
       "                                η⋅ωA - η⋅ωB - 2⋅ωA + 2⋅ωB                     \n",
       "\n",
       "__________ \n",
       "        2  \n",
       "⋅ωB + ωB   \n",
       "───────────\n",
       "           "
      ]
     },
     "execution_count": 17,
     "metadata": {},
     "output_type": "execute_result"
    }
   ],
   "source": [
    "simplify(sol2 - sol3)"
   ]
  },
  {
   "cell_type": "code",
   "execution_count": 18,
   "metadata": {
    "collapsed": false
   },
   "outputs": [
    {
     "name": "stdout",
     "output_type": "stream",
     "text": [
      "η = Symbol('η')\n",
      "ωA = Symbol('ωA')\n",
      "ωB = Symbol('ωB')\n",
      "e = (η*ωA - η*ωB - ωA + 3*ωB - sqrt(η**2*ωA**2 - 2*η**2*ωA*ωB + η**2*ωB**2 - 2*η*ωA**2 + 4*η*ωA*ωB - 2*η*ωB**2 + ωA**2 + 2*ωA*ωB + ωB**2))/(2*η*ωA - 2*η*ωB - 4*ωA + 4*ωB)\n"
     ]
    }
   ],
   "source": [
    "print_python(sol2)"
   ]
  },
  {
   "cell_type": "code",
   "execution_count": 19,
   "metadata": {
    "collapsed": false
   },
   "outputs": [
    {
     "data": {
      "text/plain": [
       "'\\\\frac{1}{2 η ωA - 2 η ωB - 4 ωA + 4 ωB} \\\\left(η ωA - η ωB - ωA + 3 ωB - \\\\sqrt{η^{2} ωA^{2} - 2 η^{2} ωA ωB + η^{2} ωB^{2} - 2 η ωA^{2} + 4 η ωA ωB - 2 η ωB^{2} + ωA^{2} + 2 ωA ωB + ωB^{2}}\\\\right)'"
      ]
     },
     "execution_count": 19,
     "metadata": {},
     "output_type": "execute_result"
    }
   ],
   "source": [
    "latex(sol2)"
   ]
  },
  {
   "cell_type": "markdown",
   "metadata": {},
   "source": [
    "I ran a bunch of simulations:\n",
    "```\n",
    "python simulation.py --Ne 100000 --n 200 --η1 0.1 --ω0 0 --ω1 1 --π0 0.5 --env ABAB\n",
    "python simulation.py --Ne 100000 --n 2000 --η1 0.01 --ω0 0 --ω1 1 --π0 0.5 --env ABAB\n",
    "python simulation.py --Ne 100000 --n 200 --η1 0.1 --ω0 0.2 --ω1 2.0 --π0 0.5 --env ABAB\n",
    "python simulation.py --Ne 100000 --n 2000 --η1 0.01 --ω0 0.2 --ω1 2.0 --π0 0.5 --env ABAB\n",
    "```\n",
    "\n",
    "using `recurrence.sge` on the cluster."
   ]
  },
  {
   "cell_type": "code",
   "execution_count": 27,
   "metadata": {
    "collapsed": false
   },
   "outputs": [
    {
     "data": {
      "text/html": [
       "<div>\n",
       "<table border=\"1\" class=\"dataframe\">\n",
       "  <thead>\n",
       "    <tr style=\"text-align: right;\">\n",
       "      <th></th>\n",
       "      <th>ID</th>\n",
       "      <th>N</th>\n",
       "      <th>env</th>\n",
       "      <th>n</th>\n",
       "      <th>t</th>\n",
       "      <th>ε</th>\n",
       "      <th>η1</th>\n",
       "      <th>η2</th>\n",
       "      <th>κ</th>\n",
       "      <th>μ1</th>\n",
       "      <th>μ2</th>\n",
       "      <th>π</th>\n",
       "      <th>π0</th>\n",
       "      <th>ω0</th>\n",
       "      <th>ω1</th>\n",
       "    </tr>\n",
       "  </thead>\n",
       "  <tbody>\n",
       "    <tr>\n",
       "      <th>0</th>\n",
       "      <td>2017-02-02T19-57-31.247640</td>\n",
       "      <td>100000</td>\n",
       "      <td>ABAB</td>\n",
       "      <td>200</td>\n",
       "      <td>0</td>\n",
       "      <td>0.0</td>\n",
       "      <td>0.1</td>\n",
       "      <td>None</td>\n",
       "      <td>0.0</td>\n",
       "      <td>0.0</td>\n",
       "      <td>None</td>\n",
       "      <td>0.499796</td>\n",
       "      <td>0.5</td>\n",
       "      <td>0.0</td>\n",
       "      <td>1.0</td>\n",
       "    </tr>\n",
       "    <tr>\n",
       "      <th>1</th>\n",
       "      <td>2017-02-02T19-57-31.247640</td>\n",
       "      <td>100000</td>\n",
       "      <td>ABAB</td>\n",
       "      <td>200</td>\n",
       "      <td>1</td>\n",
       "      <td>1.0</td>\n",
       "      <td>0.1</td>\n",
       "      <td>None</td>\n",
       "      <td>0.0</td>\n",
       "      <td>0.0</td>\n",
       "      <td>None</td>\n",
       "      <td>0.363823</td>\n",
       "      <td>0.5</td>\n",
       "      <td>0.0</td>\n",
       "      <td>1.0</td>\n",
       "    </tr>\n",
       "    <tr>\n",
       "      <th>2</th>\n",
       "      <td>2017-02-02T19-57-31.247640</td>\n",
       "      <td>100000</td>\n",
       "      <td>ABAB</td>\n",
       "      <td>200</td>\n",
       "      <td>2</td>\n",
       "      <td>0.0</td>\n",
       "      <td>0.1</td>\n",
       "      <td>None</td>\n",
       "      <td>0.0</td>\n",
       "      <td>0.0</td>\n",
       "      <td>None</td>\n",
       "      <td>0.504418</td>\n",
       "      <td>0.5</td>\n",
       "      <td>0.0</td>\n",
       "      <td>1.0</td>\n",
       "    </tr>\n",
       "    <tr>\n",
       "      <th>3</th>\n",
       "      <td>2017-02-02T19-57-31.247640</td>\n",
       "      <td>100000</td>\n",
       "      <td>ABAB</td>\n",
       "      <td>200</td>\n",
       "      <td>3</td>\n",
       "      <td>1.0</td>\n",
       "      <td>0.1</td>\n",
       "      <td>None</td>\n",
       "      <td>0.0</td>\n",
       "      <td>0.0</td>\n",
       "      <td>None</td>\n",
       "      <td>0.419322</td>\n",
       "      <td>0.5</td>\n",
       "      <td>0.0</td>\n",
       "      <td>1.0</td>\n",
       "    </tr>\n",
       "    <tr>\n",
       "      <th>4</th>\n",
       "      <td>2017-02-02T19-57-31.247640</td>\n",
       "      <td>100000</td>\n",
       "      <td>ABAB</td>\n",
       "      <td>200</td>\n",
       "      <td>4</td>\n",
       "      <td>0.0</td>\n",
       "      <td>0.1</td>\n",
       "      <td>None</td>\n",
       "      <td>0.0</td>\n",
       "      <td>0.0</td>\n",
       "      <td>None</td>\n",
       "      <td>0.508323</td>\n",
       "      <td>0.5</td>\n",
       "      <td>0.0</td>\n",
       "      <td>1.0</td>\n",
       "    </tr>\n",
       "  </tbody>\n",
       "</table>\n",
       "</div>"
      ],
      "text/plain": [
       "                           ID       N   env    n  t    ε   η1    η2    κ   μ1  \\\n",
       "0  2017-02-02T19-57-31.247640  100000  ABAB  200  0  0.0  0.1  None  0.0  0.0   \n",
       "1  2017-02-02T19-57-31.247640  100000  ABAB  200  1  1.0  0.1  None  0.0  0.0   \n",
       "2  2017-02-02T19-57-31.247640  100000  ABAB  200  2  0.0  0.1  None  0.0  0.0   \n",
       "3  2017-02-02T19-57-31.247640  100000  ABAB  200  3  1.0  0.1  None  0.0  0.0   \n",
       "4  2017-02-02T19-57-31.247640  100000  ABAB  200  4  0.0  0.1  None  0.0  0.0   \n",
       "\n",
       "     μ2         π   π0   ω0   ω1  \n",
       "0  None  0.499796  0.5  0.0  1.0  \n",
       "1  None  0.363823  0.5  0.0  1.0  \n",
       "2  None  0.504418  0.5  0.0  1.0  \n",
       "3  None  0.419322  0.5  0.0  1.0  \n",
       "4  None  0.508323  0.5  0.0  1.0  "
      ]
     },
     "execution_count": 27,
     "metadata": {},
     "output_type": "execute_result"
    }
   ],
   "source": [
    "df = load_simulations('recurrence', False, False)\n",
    "df.head()"
   ]
  },
  {
   "cell_type": "code",
   "execution_count": 63,
   "metadata": {
    "collapsed": false
   },
   "outputs": [
    {
     "name": "stdout",
     "output_type": "stream",
     "text": [
      "η=0.01, ωA=0.0, ωB=1.0, sol2=0.502512562814070, sol3=1.00000000000000\n",
      "η=0.1, ωA=0.0, ωB=1.0, sol2=0.526315789473684, sol3=1.00000000000000\n",
      "η=0.01, ωA=0.2, ωB=2.0, sol2=0.502052312424950, sol3=1.11212970879225\n",
      "η=0.1, ωA=0.2, ωB=2.0, sol2=0.521149923589071, sol3=1.12212493021210\n"
     ]
    },
    {
     "data": {
      "image/png": "[encoded data removed]",
      "text/plain": [
       "<matplotlib.figure.Figure at 0x10edc15c0>"
      ]
     },
     "metadata": {},
     "output_type": "display_data"
    }
   ],
   "source": [
    "fig, axes = plt.subplots(2, 2, figsize=(8, 8), sharex='col', sharey='col')\n",
    "\n",
    "agg = df.groupby(['ω0', 'ω1', 'η1', 't']).agg(np.mean)['π'].reset_index()\n",
    "for (key, grp), ax in zip(agg[agg['t'] % 2 == 0].groupby(['ω0', 'ω1', 'η1']), axes.flat):\n",
    "    ωA_, ωB_, η_ = key\n",
    "    n = grp['t'].max()\n",
    "    # analytic solution\n",
    "    subs = [(η, η_), (ωA, ωA_), (ωB, ωB_)]\n",
    "    sol2_ = sol2.subs(subs)\n",
    "    sol3_ = sol3.subs(subs)\n",
    "    print(\"η={}, ωA={}, ωB={}, sol2={}, sol3={}\".format(η_, ωA_, ωB_, sol2_, sol3_))\n",
    "    sol = float(sol2_ if 1 > sol2_ > 0 else sol3_)\n",
    "    ax.axhline(sol, color=green, lw=3, ls='--', label='solution')\n",
    "    # iteration\n",
    "    x_ = np.empty(n//2)\n",
    "    x_[0] = 0.5\n",
    "    for t in range(1, n//2):\n",
    "        x_[t] = xxx.subs(subs + [(x, x_[t-1])])\n",
    "    ax.plot(range(0, n//2), x_, color=blue, label='iteration')\n",
    "    # simulations\n",
    "    grp.plot('t', 'π', color=orange, ax=ax, label='simulation')  \n",
    "    # styling\n",
    "    ax.set_title('$\\eta$={}, $\\omega_0$={}, $\\omega_1$={}'.format(η_, ωA_, ωB_))\n",
    "    ax.legend().set_visible(False)\n",
    "\n",
    "for i in range(2): axes[0, i].set_xlabel('')\n",
    "for i in range(2): axes[1, i].set_xlabel('Time (every other generation)')\n",
    "for i in range(2): axes[i, 1].set_ylabel('')\n",
    "for i in range(2): axes[i, 0].set_ylabel(r'$\\bar{\\pi}$ or $\\tilde{x}$')\n",
    "axes[0,0].legend().set_visible(True)\n",
    "\n",
    "fig.tight_layout()\n",
    "sns.despine()\n",
    "fig.savefig('figures/deterministic_periodic_environment.pdf');"
   ]
  },
  {
   "cell_type": "code",
   "execution_count": null,
   "metadata": {
    "collapsed": true
   },
   "outputs": [],
   "source": []
  }
 ],
 "metadata": {
  "anaconda-cloud": {},
  "kernelspec": {
   "display_name": "Python [conda env:Milpitas]",
   "language": "python",
   "name": "conda-env-Milpitas-py"
  }
 },
 "nbformat": 4,
 "nbformat_minor": 1
}
