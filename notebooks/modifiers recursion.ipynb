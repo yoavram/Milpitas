{
 "cells": [
  {
   "cell_type": "code",
   "execution_count": 1,
   "metadata": {
    "collapsed": true
   },
   "outputs": [],
   "source": [
    "%matplotlib inline\n",
    "import matplotlib.pyplot as plt\n",
    "import matplotlib as mpl\n",
    "from mpl_toolkits.axes_grid1.inset_locator import inset_axes\n",
    "from mpl_toolkits.axes_grid1.inset_locator import mark_inset\n",
    "import numpy as np\n",
    "import numba\n",
    "from concurrent.futures import ProcessPoolExecutor\n",
    "import pandas as pd\n",
    "import pickle\n",
    "import seaborn as sns\n",
    "sns.set(\n",
    "    style='ticks',\n",
    "    font_scale=1.5\n",
    ")\n",
    "from rakott.mpl import fig_panel_labels\n",
    "import string"
   ]
  },
  {
   "cell_type": "markdown",
   "metadata": {},
   "source": [
    "# Modifier model\n",
    "\n",
    "| pheno-genotype     | mA  | mB     | MA  | MB     |\n",
    "|------|-----|--------|-----|--------|\n",
    "| frequency    | $x_1$  | $x_2$ | $x_3$  | $x_4$ |\n",
    "| fitness    | $\\omega_A$ | $\\omega_B$    | $\\omega_A$ | $\\omega_B$    |\n",
    "| vertical transmission rate | $\\rho$   | $\\rho$      | $P$   | $P$      |\n",
    "\n",
    "\n",
    "The population recurrence is \n",
    "\n",
    "$$\n",
    "\\bar{\\omega} x_1' = x_1 \\omega_A ((1-\\rho)(x_1 + x_3)+\\rho) + x_2 \\omega_B(1-\\rho)(x_1 + x_3) \\\\\n",
    "\\bar{\\omega} x_2' = x_1 \\omega_A (1-\\rho)(x_2 + x_4) + x_2 \\omega_B ((1-\\rho)(x_2 + x_4) + \\rho) \\\\\n",
    "\\bar{\\omega} x_3' = x_3 \\omega_A ((1-P)(x_1 + x_3) + P) + x_4 \\omega_B (1-P)(x_1 + x_3) \\\\\n",
    "\\bar{\\omega} x_4' = x_3 \\omega_A (1-P)(x_2 + x_4) + x_4 \\omega_B ((1-P)(x_2 + x_4) + P) \\\\\n",
    "\\bar{\\omega} = \\omega_A (x_1 + x_3) + \\omega_B (x_2 + x_4)\n",
    "$$"
   ]
  },
  {
   "cell_type": "markdown",
   "metadata": {},
   "source": [
    "# Modifier numerical simulation"
   ]
  },
  {
   "cell_type": "code",
   "execution_count": 2,
   "metadata": {},
   "outputs": [
    {
     "data": {
      "text/plain": [
       "array([ 0.25833333,  0.24166667,  0.325     ,  0.175     ])"
      ]
     },
     "execution_count": 2,
     "metadata": {},
     "output_type": "execute_result"
    }
   ],
   "source": [
    "@numba.jit()\n",
    "def recursion(x, wA, wB, ρ, P, N=0):\n",
    "    x1, x2, x3, x4 = x\n",
    "    x1_ = x1 * wA * ((1 - ρ) * (x1 + x3) + ρ) + x2 * wB * (1 - ρ) * (x1 + x3)\n",
    "    x2_ = x1 * wA * (1 - ρ) * (x2 + x4) + x2 * wB * ((1 - ρ) * (x2 + x4) + ρ)\n",
    "    x3_ = x3 * wA * ((1 - P) * (x1 + x3) + P) + x4 * wB * (1 - P) * (x1 + x3)\n",
    "    x4_ = x3 * wA * (1 - P) * (x2 + x4) + x4 * wB * ((1 - P) * (x2 + x4) + P)\n",
    "    x = x1_, x2_, x3_, x4_\n",
    "    x = np.array(x)\n",
    "    x /= x.sum()\n",
    "    if N > 0:\n",
    "        x = np.random.multinomial(N, x) / N\n",
    "    return x\n",
    "\n",
    "recursion((0.25,0.25,0.25,0.25), 1, 0.5, 0.1, 0.9, 0)"
   ]
  },
  {
   "cell_type": "code",
   "execution_count": 3,
   "metadata": {
    "collapsed": true
   },
   "outputs": [],
   "source": [
    "@numba.jit()\n",
    "def evolution(W, w, ρ0=0.1, m0=0.999, A0=0.1, N=0, factor=0.1):\n",
    "    n = len(W)\n",
    "    assert len(w) == n\n",
    "    N = int(N)\n",
    "    ρ = ρ0\n",
    "    P = ρ * factor\n",
    "    W_, w_ = W[0], w[0]\n",
    "    x = np.zeros((4, n))\n",
    "    x[:, 0] = [m0*A0, m0*(1-A0), (1-m0)*A0, (1-m0)*(1-A0)]\n",
    "    wbar = np.empty(n, dtype=float)\n",
    "    rate = np.empty(n, dtype=float)    \n",
    "    invasions = []\n",
    "\n",
    "    for t in range(n-1):\n",
    "        W_, w_ = W[t], w[t]\n",
    "        rate[t] = ρ * (x[0,t] + x[1,t]) + P * (x[2,t] + x[3,t])\n",
    "        wbar[t] = (x[0,t] + x[2,t]) * W_ + (x[1,t] + x[3,t]) * w_\n",
    "        x[:, t+1] = recursion(\n",
    "            x[:, t], W_, w_, ρ, P, N\n",
    "        )\n",
    "        t = t+1\n",
    "        if x[0,t] + x[1,t] > 0.999:\n",
    "            if x[0,t] > x[1,t]:\n",
    "                x[0,t] -= 0.0001\n",
    "                x[2,t] += 0.0001\n",
    "            else:\n",
    "                x[1,t] -= 0.0001\n",
    "                x[3,t] += 0.0001        \n",
    "        if x[0,t] + x[1,t] < 0.0001 and 0 < ρ < 1:\n",
    "            x[0,t], x[1,t], x[2,t], x[3,t] = x[2,t], x[3,t], x[0,t], x[1,t]\n",
    "            print(t, P, end=', ')\n",
    "            invasions.append((t, P))\n",
    "            ρ, P = P, min(max(P * factor, 0.0), 1.0)\n",
    "    wbar[-1] = wbar[-2]\n",
    "    return x, invasions, wbar"
   ]
  },
  {
   "cell_type": "code",
   "execution_count": 4,
   "metadata": {
    "collapsed": true,
    "scrolled": false
   },
   "outputs": [],
   "source": [
    "def plot_invasions(x, invasions, wbar, ρ0, time_step=1, inset=None, factor=0.1, \n",
    "                   panel_labels=string.ascii_uppercase, filename=None):\n",
    "    if wbar is not None:\n",
    "        rows = 3\n",
    "    else:\n",
    "        rows = 2\n",
    "\n",
    "    fig, axes = plt.subplots(rows, 1, figsize=(6, 4*rows), sharey=False, sharex=True)\n",
    "    axes[0].plot(\n",
    "        np.arange(0, x.shape[1], time_step),\n",
    "        x[0,::time_step] + x[2,::time_step], \n",
    "        label='A'\n",
    "    )\n",
    "#     axes[0].axhline(0.5, ls='--', color='k', alpha=0.8)\n",
    "    t = 0\n",
    "    for i, (inv, rate) in enumerate(invasions):\n",
    "        for j in range(rows): axes[j].axvline(inv, ls='--', lw=1, color='gray')        \n",
    "        axes[1].plot(\n",
    "            np.arange(t, inv, time_step),\n",
    "            x[2,t:inv:time_step] + x[3,t:inv:time_step], \n",
    "            label='{:g}'.format(rate)\n",
    "        )\n",
    "        t = inv\n",
    "    \n",
    "    if wbar is not None:\n",
    "        axes[2].plot(\n",
    "            np.arange(0, wbar.shape[0], time_step),\n",
    "            wbar[::time_step]\n",
    "        )\n",
    "\n",
    "        # inset ################\n",
    "        if inset is not None:\n",
    "            axins = inset_axes(axes[2], width=\"50%\", height=\"40%\", loc=4)\n",
    "            axins.plot(\n",
    "                np.arange(inset, wbar.shape[0], time_step),\n",
    "                wbar[inset::time_step]\n",
    "            )\n",
    "            axins.set(xscale='log', xlim=(inset, None), yscale='log', xticks=[], yticks=[])\n",
    "            plt.xticks(visible=False)\n",
    "            plt.yticks(visible=False)\n",
    "\n",
    "            for i, (inv, rate) in enumerate(invasions):\n",
    "                axins.axvline(inv, ls='--', lw=1, color='gray')\n",
    "\n",
    "            mark_inset(axes[2], axins, loc1=2, loc2=1)\n",
    "        ########################\n",
    "    \n",
    "    axes[0].set(ylim=(0,1), ylabel='Frequency of phenotype $A$')\n",
    "    axes[1].set(ylim=(0,1), ylabel='Invader frequency')\n",
    "    axes[1].legend(title='Rate')\n",
    "    if wbar is not None:\n",
    "        axes[2].set(ylabel=r'Mean fitness - $\\bar{\\omega}$', xlabel='Generations', xscale='log')\n",
    "    else:\n",
    "        axes[1].set(xlabel='Generations', xscale='log')\n",
    "\n",
    "    labels = fig_panel_labels(axes, panel_labels, xcoord=-0.16, ycoord=1.025)\n",
    "    fig.tight_layout()\n",
    "    if filename is not None:\n",
    "        fig.savefig(filename, bbox_inches='tight', bbox_extra_artists=labels)\n",
    "    return fig, axes"
   ]
  },
  {
   "cell_type": "code",
   "execution_count": null,
   "metadata": {
    "collapsed": true
   },
   "outputs": [],
   "source": [
    "n = 1000000\n",
    "for w in [0.1, 0.5, 0.9]:\n",
    "    Ws = np.array([1, w]*(n//2))\n",
    "    ws = np.array([w, 1]*(n//2))\n",
    "    x, invasions, wbar = evolution(ρ0=0.1, n=n, W=Ws, w=ws, N=0)\n",
    "    np.savez_compressed('A1B1_modifier_invasions_w{:.1f}.npz'.format(w), x=x, invasions=invasions, wbar=wbar)"
   ]
  },
  {
   "cell_type": "code",
   "execution_count": null,
   "metadata": {
    "collapsed": true
   },
   "outputs": [],
   "source": [
    "w = 0.1\n",
    "\n",
    "d = np.load('A1B1_modifier_invasions_w{:.1f}.npz'.format(w))\n",
    "x = d['x']\n",
    "invasions = d['invasions']\n",
    "wbar = d['wbar']\n",
    "del d"
   ]
  },
  {
   "cell_type": "code",
   "execution_count": null,
   "metadata": {
    "collapsed": true
   },
   "outputs": [],
   "source": [
    "fig, axes = plot_invasions(x, invasions, wbar, ρ0=0.1, inset=10000, panel_labels='ABC',\n",
    "        filename='../figures/A1B1_modifier_invasions_w{:.1f}.pdf'.format(w))"
   ]
  },
  {
   "cell_type": "markdown",
   "metadata": {},
   "source": [
    "After creating several multi-panel figures, they can be merged with:\n",
    "```sh\n",
    "!pdfjam A1B1_modifier_invasions_w0.1.pdf  A1B1_modifier_invasions_w0.5.pdf A1B1_modifier_invasions_w0.9.pdf -o A1B1_modifier_invasions.pdf --landscape --nup 3x1\n",
    "```"
   ]
  },
  {
   "cell_type": "markdown",
   "metadata": {},
   "source": [
    "# AkBl"
   ]
  },
  {
   "cell_type": "code",
   "execution_count": null,
   "metadata": {
    "collapsed": true
   },
   "outputs": [],
   "source": [
    "def ab(ρ, W, w):\n",
    "    return (1 + ρ * (W-w) / w) * (1 + ρ * (w-W)/W)"
   ]
  },
  {
   "cell_type": "code",
   "execution_count": null,
   "metadata": {
    "collapsed": true
   },
   "outputs": [],
   "source": [
    "ab(0.1, 1, 0.1)"
   ]
  },
  {
   "cell_type": "code",
   "execution_count": null,
   "metadata": {
    "collapsed": true
   },
   "outputs": [],
   "source": [
    "n = 60000\n",
    "ρ0 = 0.9\n",
    "factor = 1.03\n",
    "w = 0.1\n",
    "k = 40\n",
    "l = 40\n",
    "Ws = np.array(([1]*k + [w]*l)*(n//(k+l)))\n",
    "ws = np.array(([w]*k + [1]*l)*(n//(k+l)))\n",
    "x, invasions, wbar = evolution(Ws, ws, ρ0=ρ0, A0=0.5, N=0, factor=factor)\n",
    "np.savez_compressed('A{}B{}_modifier_invasions_w{:.1f}.npz'.format(k, l, w), \n",
    "                    x=x, invasions=invasions, wbar=wbar)\n",
    "invasions"
   ]
  },
  {
   "cell_type": "code",
   "execution_count": null,
   "metadata": {
    "collapsed": true
   },
   "outputs": [],
   "source": [
    "arit_wbar = np.mean(\n",
    "    wbar.reshape(-1, (k+l)), \n",
    "    axis=1\n",
    ")\n",
    "geom_wbar = np.power(\n",
    "    np.prod(\n",
    "        wbar.reshape(-1, (k+l)), \n",
    "        axis=1\n",
    "    ), (1/(k+l))\n",
    ")"
   ]
  },
  {
   "cell_type": "code",
   "execution_count": null,
   "metadata": {
    "collapsed": true,
    "scrolled": false
   },
   "outputs": [],
   "source": [
    "fig, axes = plot_invasions(x, invasions, wbar, ρ0=ρ0, inset=None, factor=factor, panel_labels='ABC',)\n",
    "#         filename='../figures/A{}B{}_modifier_invasions_w{:.1f}.pdf'.format(k, l, w))\n",
    "axes[0].set_xscale('log')\n",
    "# axes[2].plot(np.arange(0, n, k+l), arit_wbar, ls='--')\n",
    "axes[2].plot(np.arange(0, n, k+l), geom_wbar, ls='-', alpha=0.5)\n",
    "# axes[2].plot(np.arange(0, n, k+l), arit_wbar, ls='--', alpha=0.5)\n",
    "fig.savefig('../figures/A{}B{}_modifier_invasions_w{:.1f}_ρ0{:.2f}.png'.format(k, l, w, ρ0))"
   ]
  },
  {
   "cell_type": "markdown",
   "metadata": {},
   "source": [
    "## Stochastic environment"
   ]
  },
  {
   "cell_type": "code",
   "execution_count": null,
   "metadata": {
    "collapsed": true
   },
   "outputs": [],
   "source": [
    "n = 10000000\n",
    "w = 0.1\n",
    "rand = np.random.randint(0, 2, size=n, dtype=bool)\n",
    "Ws = np.ones(n, dtype=float)\n",
    "ws = np.ones(n, dtype=float)\n",
    "Ws[rand] = w\n",
    "ws[~rand] = w"
   ]
  },
  {
   "cell_type": "code",
   "execution_count": null,
   "metadata": {
    "collapsed": true
   },
   "outputs": [],
   "source": [
    "x, invasions, wbar = evolution(ρ0=0.1, W=Ws, w=ws, N=0)"
   ]
  },
  {
   "cell_type": "code",
   "execution_count": null,
   "metadata": {
    "collapsed": true
   },
   "outputs": [],
   "source": [
    "np.savez_compressed('stoch_modifier_invasions.npz', x=x, invasions=invasions, wbar=wbar)"
   ]
  },
  {
   "cell_type": "code",
   "execution_count": null,
   "metadata": {
    "collapsed": true
   },
   "outputs": [],
   "source": [
    "d = np.load('stoch_modifier_invasions.npz')\n",
    "x = d['x']\n",
    "invasions = d['invasions']\n",
    "wbar = d['wbar']\n",
    "del d"
   ]
  },
  {
   "cell_type": "code",
   "execution_count": null,
   "metadata": {
    "collapsed": true
   },
   "outputs": [],
   "source": [
    "fig, axes = plot_invasions(x, invasions, None, ρ0=0.1, \n",
    "                           time_step=100, inset=None, \n",
    "                           filename='../figures/stoch_modifier_invasions.png')\n",
    "fig.savefig('../figures/stoch_modifier_invasions.png')"
   ]
  },
  {
   "cell_type": "markdown",
   "metadata": {
    "collapsed": true
   },
   "source": [
    "# Evolutionary stable rate"
   ]
  },
  {
   "cell_type": "code",
   "execution_count": 154,
   "metadata": {
    "collapsed": true
   },
   "outputs": [],
   "source": [
    "@numba.jit()\n",
    "def invasion(x1, wA, wB, ρ, P, inv_rate=1e-4):\n",
    "    n = len(wA)\n",
    "    assert len(wA) == len(wB)\n",
    "    x = np.array(\n",
    "        [x1*(1-inv_rate), (1-x1)*(1-inv_rate), x1*inv_rate, (1-x1)*inv_rate]\n",
    "    )\n",
    "    assert np.isclose(x.sum(), 1)\n",
    "    \n",
    "    for t in range(n):\n",
    "        wA_ = wA[t]\n",
    "        wB_ = wB[t]\n",
    "        x = recursion(x, wA_, wB_, ρ, P, N=0)\n",
    "    if (x[2] + x[3]) > inv_rate:\n",
    "        return P\n",
    "    else:\n",
    "        return ρ\n",
    "\n",
    "@numba.jit()\n",
    "def stable_x(wA, wB, ρ, x0=0.5):\n",
    "    n = len(wA)\n",
    "    x = np.array([x0, 1-x0, 0, 0])\n",
    "    for t in range(n):\n",
    "        wA_ = wA[t]\n",
    "        wB_ = wB[t]\n",
    "        x = recursion(x, wA_, wB_, ρ, 0, N=0)\n",
    "    return x"
   ]
  },
  {
   "cell_type": "code",
   "execution_count": 6,
   "metadata": {
    "collapsed": true
   },
   "outputs": [],
   "source": [
    "# @numba.jit()\n",
    "def is_polymorphism(w, ρ, k, l):\n",
    "    # see eq 22\n",
    "    s = 1 - w\n",
    "    if ρ*s == 0:\n",
    "        return True\n",
    "    elif k == l:\n",
    "        return True\n",
    "    elif l > k:\n",
    "        return l/k < -np.log(1+ρ*s/(1-s))/np.log(1-ρ*s) \n",
    "    else: # k > l\n",
    "        return k/l < -np.log(1+ρ*s/(1-s))/np.log(1-ρ*s) "
   ]
  },
  {
   "cell_type": "code",
   "execution_count": 111,
   "metadata": {},
   "outputs": [],
   "source": [
    "def max_ρ_with_polymorphism(w, k, l, num_pts=1001):\n",
    "    for ρ_ in np.linspace(0, 1, num_pts)[::-1]:\n",
    "        if is_polymorphism(w, ρ_, k, l): \n",
    "            return ρ_"
   ]
  },
  {
   "cell_type": "code",
   "execution_count": 7,
   "metadata": {
    "collapsed": true
   },
   "outputs": [],
   "source": [
    "# @numba.jit()\n",
    "def draw_ρ(w, k, l, ρ=None):\n",
    "    if ρ is None:\n",
    "        for _ in range(100):\n",
    "            ρ = np.random.rand()\n",
    "            if is_polymorphism(w, ρ, k, l):\n",
    "                return ρ\n",
    "        return 0\n",
    "    else:\n",
    "        for _ in range(100):\n",
    "            P = ρ * min(max(ρ * np.random.exponential(1), 0), 1)\n",
    "            if is_polymorphism(w, P, k, l):\n",
    "                return P\n",
    "        return ρ"
   ]
  },
  {
   "cell_type": "code",
   "execution_count": 9,
   "metadata": {
    "collapsed": true
   },
   "outputs": [],
   "source": [
    "# @numba.jit()\n",
    "def evol_stable(w, k, l=None, reps=1, PRINT=False):\n",
    "    if l is None:\n",
    "        l = k\n",
    "    wA = np.array(([1] * k + [w] * l)*5000)\n",
    "    wB = np.array(([w] * k + [1] * l)*5000)\n",
    "\n",
    "    results = np.empty(reps)\n",
    "    for i in range(reps):\n",
    "        ρ = draw_ρ(w, k, l)\n",
    "        x = stable_x(wA, wB, ρ)\n",
    "        if PRINT:\n",
    "            print('ρ0:', ρ)\n",
    "\n",
    "        failed_invasions = 0\n",
    "        invasions = 0\n",
    "        while True:\n",
    "            P = draw_ρ(w, k, l, ρ=ρ)\n",
    "            P = invasion(x[0], wA, wB, ρ, P)\n",
    "            invasions += 1\n",
    "            if P == ρ:\n",
    "                failed_invasions += 1\n",
    "            else:\n",
    "                failed_invasions = 0\n",
    "                ρ = P\n",
    "                x = stable_x(wA, wB, ρ)\n",
    "                if PRINT:\n",
    "                    print('ρ: {:.3f} ({})'.format(ρ, invasions), end=', ')\n",
    "\n",
    "            if failed_invasions >= 100 and invasions >= 500:\n",
    "                break            \n",
    "        # if ρ is almost 0 or almost 1, try to invade with 0 or 1.\n",
    "        if ρ < 1e-3:\n",
    "            x = stable_x(wA, wB, ρ)\n",
    "            ρ = invasion(x[0], wA, wB, ρ, 0.0)\n",
    "        elif ρ > 1 - 1e-3:\n",
    "            x = stable_x(wA, wB, ρ)\n",
    "            ρ = invasion(x[0], wA, wB, ρ, 1.0)\n",
    "        if PRINT:\n",
    "            print()\n",
    "            print('ρ: {:.3f} ({})'.format(ρ, invasions))\n",
    "        results[i] = ρ\n",
    "    return results"
   ]
  },
  {
   "cell_type": "code",
   "execution_count": 10,
   "metadata": {
    "collapsed": true
   },
   "outputs": [],
   "source": [
    "ks = np.arange(1, 51, 1)"
   ]
  },
  {
   "cell_type": "code",
   "execution_count": null,
   "metadata": {},
   "outputs": [],
   "source": [
    "for w in [0.1, 0.5, 0.9]:\n",
    "    def task(k):\n",
    "        return evol_stable(w=w, k=k, l=k, reps=10, PRINT=False)\n",
    "\n",
    "    with ProcessPoolExecutor() as exe:\n",
    "        ρs = exe.map(task, ks)\n",
    "    ρs = np.array(list(ρs))\n",
    "    df = pd.DataFrame(ρs)\n",
    "    df['k'] = ks\n",
    "    df = pd.melt(df, id_vars='k', var_name='rep', value_name='ρ')\n",
    "    df.to_csv('evol_stable_w{:.1f}.csv'.format(w))"
   ]
  },
  {
   "cell_type": "markdown",
   "metadata": {},
   "source": [
    "### Figure from data"
   ]
  },
  {
   "cell_type": "code",
   "execution_count": 14,
   "metadata": {
    "collapsed": true
   },
   "outputs": [],
   "source": [
    "df01 = pd.read_csv('evol_stable_w{:.1f}.csv'.format(0.1))\n",
    "df05 = pd.read_csv('evol_stable_w{:.1f}.csv'.format(0.5))\n",
    "df09 = pd.read_csv('evol_stable_w{:.1f}.csv'.format(0.9))\n",
    "df01['w'] = 'w=0.1'\n",
    "df01['color'] = mpl.colors.rgb2hex(sns.color_palette()[0])\n",
    "df05['w'] = 'w=0.5'\n",
    "df05['color'] = mpl.colors.rgb2hex(sns.color_palette()[1])\n",
    "df09['w'] = 'w=0.9'\n",
    "df09['color'] = mpl.colors.rgb2hex(sns.color_palette()[2])\n",
    "df01.drop(['Unnamed: 0'], axis=1, inplace=True)\n",
    "df05.drop(['Unnamed: 0'], axis=1, inplace=True)\n",
    "df09.drop(['Unnamed: 0'], axis=1, inplace=True)\n",
    "df = pd.concat((df01, df05, df09), axis=0)"
   ]
  },
  {
   "cell_type": "code",
   "execution_count": 15,
   "metadata": {
    "collapsed": true
   },
   "outputs": [],
   "source": [
    "meanρ = df.groupby(['k', 'w', 'color'])['ρ'].agg(np.mean).reset_index()\n",
    "stdρ = df.groupby(['k', 'w', 'color'])['ρ'].agg(np.std).reset_index()"
   ]
  },
  {
   "cell_type": "code",
   "execution_count": 16,
   "metadata": {},
   "outputs": [
    {
     "name": "stderr",
     "output_type": "stream",
     "text": [
      "/Users/yoavram/miniconda3/envs/Milpitas/lib/python3.5/site-packages/ipykernel/__main__.py:8: RuntimeWarning: divide by zero encountered in true_divide\n"
     ]
    },
    {
     "data": {
      "image/png": "[encoded data removed]",
      "text/plain": [
       "<matplotlib.figure.Figure at 0x11b17a860>"
      ]
     },
     "metadata": {},
     "output_type": "display_data"
    }
   ],
   "source": [
    "fig, ax = plt.subplots()\n",
    "\n",
    "for w_ in df['w'].unique():\n",
    "    _df = meanρ[meanρ['w']==w_]\n",
    "    _std = stdρ[stdρ['w']==w_]\n",
    "    c = _df['color'].unique()[0]\n",
    "    ax.errorbar(_df['k'], _df['ρ'], _std['ρ'], fmt='o', color=c, label=w_)\n",
    "ax.errorbar(np.sort(ks), 1-1/np.sort(ks-1), lw=2, color='k', ls='--', label=r'$1-\\frac{1}{k-1}$')\n",
    "\n",
    "ax.set(\n",
    "    xticks=[1, 10, 20, 30, 40, 50],\n",
    "    xticklabels=[1, 10, 20, 30, 40, 50],\n",
    "    xlabel=r'Environment period - $k=l$',\n",
    "    ylim=(0, 1),\n",
    "    ylabel=r'Evolutionary stable rate - $\\rho^*$',\n",
    ")\n",
    "ax.legend()\n",
    "ax.figure.tight_layout()\n",
    "# ax.figure.savefig('../figures/rho_evol_stability.pdf')"
   ]
  },
  {
   "cell_type": "markdown",
   "metadata": {},
   "source": [
    "## Reduction"
   ]
  },
  {
   "cell_type": "code",
   "execution_count": 183,
   "metadata": {},
   "outputs": [],
   "source": [
    "@numba.jit()\n",
    "def reduction(w, k, l=None, factor=0.99, cycles=1000, ρ0=-1.0, PRINT=False):\n",
    "    if l is None:\n",
    "        l = k\n",
    "    wA = np.array(([1] * k + [w] * l) * cycles)\n",
    "    wB = np.array(([w] * k + [1] * l) * cycles)\n",
    "\n",
    "    assert factor > 0, factor\n",
    "    if ρ0 < 0:\n",
    "        ρ = max_ρ_with_polymorphism(w, k, l, num_pts=1001)\n",
    "    else:\n",
    "        ρ = ρ0\n",
    "    x = stable_x(wA, wB, ρ)\n",
    "    if PRINT:\n",
    "        print('ρ0:', ρ)\n",
    "    invasions = 0\n",
    "    while True:\n",
    "        invasions += 1\n",
    "        P = ρ * factor\n",
    "        if P > 1 or P < 0:\n",
    "            break\n",
    "        P = invasion(x[0], wA, wB, ρ, P)\n",
    "        if P != ρ:\n",
    "            ρ = P\n",
    "            x = stable_x(wA, wB, ρ)\n",
    "            if PRINT:\n",
    "                print('ρ: {:.3f} ({})'.format(ρ, invasions), end=', ')\n",
    "        else:\n",
    "            break            \n",
    "    if PRINT:\n",
    "        print()\n",
    "        print('ρ: {:.3f} ({})'.format(ρ, invasions))        \n",
    "    return ρ"
   ]
  },
  {
   "cell_type": "code",
   "execution_count": 142,
   "metadata": {},
   "outputs": [
    {
     "data": {
      "text/plain": [
       "(7.663868923667706e-06, 1173)"
      ]
     },
     "execution_count": 142,
     "metadata": {},
     "output_type": "execute_result"
    }
   ],
   "source": [
    "reduction(0.1, 2, 2)"
   ]
  },
  {
   "cell_type": "code",
   "execution_count": 143,
   "metadata": {},
   "outputs": [
    {
     "data": {
      "text/plain": [
       "(2.8052238853412336e-06, 1273)"
      ]
     },
     "execution_count": 143,
     "metadata": {},
     "output_type": "execute_result"
    }
   ],
   "source": [
    "reduction(0.5, 2, 2)"
   ]
  },
  {
   "cell_type": "code",
   "execution_count": 144,
   "metadata": {},
   "outputs": [
    {
     "data": {
      "text/plain": [
       "(3.0096858462129677e-06, 1266)"
      ]
     },
     "execution_count": 144,
     "metadata": {},
     "output_type": "execute_result"
    }
   ],
   "source": [
    "reduction(0.9, 2, 2)"
   ]
  },
  {
   "cell_type": "code",
   "execution_count": 195,
   "metadata": {},
   "outputs": [
    {
     "data": {
      "text/plain": [
       "0.9043820750088043"
      ]
     },
     "execution_count": 195,
     "metadata": {},
     "output_type": "execute_result"
    }
   ],
   "source": [
    "reduction(0.1, 20, 20, factor=0.99, cycles=10000)"
   ]
  },
  {
   "cell_type": "code",
   "execution_count": 197,
   "metadata": {},
   "outputs": [
    {
     "data": {
      "text/plain": [
       "0.9086118256718908"
      ]
     },
     "execution_count": 197,
     "metadata": {},
     "output_type": "execute_result"
    }
   ],
   "source": [
    "reduction(0.1, 20, 20, factor=1.01, ρ0=1e-4, cycles=10000)"
   ]
  },
  {
   "cell_type": "markdown",
   "metadata": {},
   "source": [
    "## Table"
   ]
  },
  {
   "cell_type": "code",
   "execution_count": 156,
   "metadata": {},
   "outputs": [],
   "source": [
    "rows = [\n",
    "    dict(w=0.1, k=3, l=10),\n",
    "    dict(w=0.1, k=5, l=30),\n",
    "    dict(w=0.5, k=3, l=10),\n",
    "    dict(w=0.5, k=5, l=30),\n",
    "    dict(w=0.9, k=3, l=10),\n",
    "    dict(w=0.9, k=5, l=30),\n",
    "    dict(w=0.1, k=12, l=12),\n",
    "    dict(w=0.5, k=12, l=12),\n",
    "    dict(w=0.9, k=12, l=12),\n",
    "    dict(w=0.1, k=30, l=30), \n",
    "    dict(w=0.5, k=30, l=30), \n",
    "    dict(w=0.9, k=30, l=30), \n",
    "    dict(w=0.1, k=1, l=1), \n",
    "    dict(w=0.1, k=1, l=2), \n",
    "    dict(w=0.1, k=2, l=2), \n",
    "    dict(w=0.5, k=1, l=1), \n",
    "    dict(w=0.5, k=1, l=2), \n",
    "    dict(w=0.5, k=2, l=2), \n",
    "    dict(w=0.9, k=1, l=1), \n",
    "    dict(w=0.9, k=1, l=2), \n",
    "    dict(w=0.9, k=2, l=2), \n",
    "]\n",
    "for row in rows:\n",
    "    row['ρ*'] = reduction(reps=5, **row)"
   ]
  },
  {
   "cell_type": "code",
   "execution_count": 157,
   "metadata": {},
   "outputs": [
    {
     "data": {
      "text/html": [
       "<div>\n",
       "<table border=\"1\" class=\"dataframe\">\n",
       "  <thead>\n",
       "    <tr style=\"text-align: right;\">\n",
       "      <th></th>\n",
       "      <th>k</th>\n",
       "      <th>l</th>\n",
       "      <th>w</th>\n",
       "      <th>ρ*</th>\n",
       "    </tr>\n",
       "  </thead>\n",
       "  <tbody>\n",
       "    <tr>\n",
       "      <th>12</th>\n",
       "      <td>1</td>\n",
       "      <td>1</td>\n",
       "      <td>0.1</td>\n",
       "      <td>1.746358e-14</td>\n",
       "    </tr>\n",
       "    <tr>\n",
       "      <th>15</th>\n",
       "      <td>1</td>\n",
       "      <td>1</td>\n",
       "      <td>0.5</td>\n",
       "      <td>1.167029e-13</td>\n",
       "    </tr>\n",
       "    <tr>\n",
       "      <th>18</th>\n",
       "      <td>1</td>\n",
       "      <td>1</td>\n",
       "      <td>0.9</td>\n",
       "      <td>5.159567e-12</td>\n",
       "    </tr>\n",
       "    <tr>\n",
       "      <th>13</th>\n",
       "      <td>1</td>\n",
       "      <td>2</td>\n",
       "      <td>0.1</td>\n",
       "      <td>1.824747e-14</td>\n",
       "    </tr>\n",
       "    <tr>\n",
       "      <th>16</th>\n",
       "      <td>1</td>\n",
       "      <td>2</td>\n",
       "      <td>0.5</td>\n",
       "      <td>0.000000e+00</td>\n",
       "    </tr>\n",
       "    <tr>\n",
       "      <th>19</th>\n",
       "      <td>1</td>\n",
       "      <td>2</td>\n",
       "      <td>0.9</td>\n",
       "      <td>0.000000e+00</td>\n",
       "    </tr>\n",
       "    <tr>\n",
       "      <th>14</th>\n",
       "      <td>2</td>\n",
       "      <td>2</td>\n",
       "      <td>0.1</td>\n",
       "      <td>7.655763e-05</td>\n",
       "    </tr>\n",
       "    <tr>\n",
       "      <th>17</th>\n",
       "      <td>2</td>\n",
       "      <td>2</td>\n",
       "      <td>0.5</td>\n",
       "      <td>2.830563e-05</td>\n",
       "    </tr>\n",
       "    <tr>\n",
       "      <th>20</th>\n",
       "      <td>2</td>\n",
       "      <td>2</td>\n",
       "      <td>0.9</td>\n",
       "      <td>2.508968e-05</td>\n",
       "    </tr>\n",
       "    <tr>\n",
       "      <th>0</th>\n",
       "      <td>3</td>\n",
       "      <td>10</td>\n",
       "      <td>0.1</td>\n",
       "      <td>4.130000e-01</td>\n",
       "    </tr>\n",
       "    <tr>\n",
       "      <th>2</th>\n",
       "      <td>3</td>\n",
       "      <td>10</td>\n",
       "      <td>0.5</td>\n",
       "      <td>0.000000e+00</td>\n",
       "    </tr>\n",
       "    <tr>\n",
       "      <th>4</th>\n",
       "      <td>3</td>\n",
       "      <td>10</td>\n",
       "      <td>0.9</td>\n",
       "      <td>0.000000e+00</td>\n",
       "    </tr>\n",
       "    <tr>\n",
       "      <th>1</th>\n",
       "      <td>5</td>\n",
       "      <td>30</td>\n",
       "      <td>0.1</td>\n",
       "      <td>1.430000e-01</td>\n",
       "    </tr>\n",
       "    <tr>\n",
       "      <th>3</th>\n",
       "      <td>5</td>\n",
       "      <td>30</td>\n",
       "      <td>0.5</td>\n",
       "      <td>0.000000e+00</td>\n",
       "    </tr>\n",
       "    <tr>\n",
       "      <th>5</th>\n",
       "      <td>5</td>\n",
       "      <td>30</td>\n",
       "      <td>0.9</td>\n",
       "      <td>0.000000e+00</td>\n",
       "    </tr>\n",
       "    <tr>\n",
       "      <th>6</th>\n",
       "      <td>12</td>\n",
       "      <td>12</td>\n",
       "      <td>0.1</td>\n",
       "      <td>8.514578e-01</td>\n",
       "    </tr>\n",
       "    <tr>\n",
       "      <th>7</th>\n",
       "      <td>12</td>\n",
       "      <td>12</td>\n",
       "      <td>0.5</td>\n",
       "      <td>9.135172e-01</td>\n",
       "    </tr>\n",
       "    <tr>\n",
       "      <th>8</th>\n",
       "      <td>12</td>\n",
       "      <td>12</td>\n",
       "      <td>0.9</td>\n",
       "      <td>9.605960e-01</td>\n",
       "    </tr>\n",
       "    <tr>\n",
       "      <th>9</th>\n",
       "      <td>30</td>\n",
       "      <td>30</td>\n",
       "      <td>0.1</td>\n",
       "      <td>9.414801e-01</td>\n",
       "    </tr>\n",
       "    <tr>\n",
       "      <th>10</th>\n",
       "      <td>30</td>\n",
       "      <td>30</td>\n",
       "      <td>0.5</td>\n",
       "      <td>9.702990e-01</td>\n",
       "    </tr>\n",
       "    <tr>\n",
       "      <th>11</th>\n",
       "      <td>30</td>\n",
       "      <td>30</td>\n",
       "      <td>0.9</td>\n",
       "      <td>1.000000e+00</td>\n",
       "    </tr>\n",
       "  </tbody>\n",
       "</table>\n",
       "</div>"
      ],
      "text/plain": [
       "     k   l    w            ρ*\n",
       "12   1   1  0.1  1.746358e-14\n",
       "15   1   1  0.5  1.167029e-13\n",
       "18   1   1  0.9  5.159567e-12\n",
       "13   1   2  0.1  1.824747e-14\n",
       "16   1   2  0.5  0.000000e+00\n",
       "19   1   2  0.9  0.000000e+00\n",
       "14   2   2  0.1  7.655763e-05\n",
       "17   2   2  0.5  2.830563e-05\n",
       "20   2   2  0.9  2.508968e-05\n",
       "0    3  10  0.1  4.130000e-01\n",
       "2    3  10  0.5  0.000000e+00\n",
       "4    3  10  0.9  0.000000e+00\n",
       "1    5  30  0.1  1.430000e-01\n",
       "3    5  30  0.5  0.000000e+00\n",
       "5    5  30  0.9  0.000000e+00\n",
       "6   12  12  0.1  8.514578e-01\n",
       "7   12  12  0.5  9.135172e-01\n",
       "8   12  12  0.9  9.605960e-01\n",
       "9   30  30  0.1  9.414801e-01\n",
       "10  30  30  0.5  9.702990e-01\n",
       "11  30  30  0.9  1.000000e+00"
      ]
     },
     "execution_count": 157,
     "metadata": {},
     "output_type": "execute_result"
    }
   ],
   "source": [
    "df = pd.DataFrame(rows)\n",
    "df.sort_values(['k','l','w'], inplace=True)\n",
    "df.to_csv('reduction_ρ.csv', index=False)\n",
    "df"
   ]
  },
  {
   "cell_type": "markdown",
   "metadata": {},
   "source": [
    "# Modifier polymorphism?"
   ]
  },
  {
   "cell_type": "code",
   "execution_count": null,
   "metadata": {
    "collapsed": true
   },
   "outputs": [],
   "source": [
    "w = 0.5\n",
    "k = l = 3\n",
    "evol_stable(w, k, l)"
   ]
  },
  {
   "cell_type": "code",
   "execution_count": null,
   "metadata": {
    "collapsed": true
   },
   "outputs": [],
   "source": [
    "n = 10000000\n",
    "wA = np.array(([1] * k + [w] * l) * n)\n",
    "wB = np.array(([w] * k + [1] * l) * n)\n",
    "\n",
    "ρ, P = 0.447, 0.448\n",
    "\n",
    "x = np.empty((len(wA), 4))\n",
    "x[0, :] = 0.25\n",
    "\n",
    "for t in range(len(wA)-1):\n",
    "    wA_ = wA[t]\n",
    "    wB_ = wB[t]\n",
    "    x[t+1,:] = recursion(x[t,:], wA_, wB_, ρ, P, N=0)"
   ]
  },
  {
   "cell_type": "code",
   "execution_count": null,
   "metadata": {
    "collapsed": true
   },
   "outputs": [],
   "source": [
    "fig, ax = plt.subplots()\n",
    "ax.plot(x[::(k+l), :2], ls='-', lw=3)\n",
    "ax.plot(x[::(k+l), 2:], ls='--', lw=2)\n",
    "ax.legend(['mA','mB','MA', 'MB'], frameon=True)\n",
    "ax.set(\n",
    "    xlabel='Periods',\n",
    "    ylabel='Frequency',\n",
    "    ylim=(0, 1)\n",
    ");"
   ]
  },
  {
   "cell_type": "code",
   "execution_count": null,
   "metadata": {
    "collapsed": true
   },
   "outputs": [],
   "source": []
  }
 ],
 "metadata": {
  "kernelspec": {
   "display_name": "Python [conda env:Milpitas]",
   "language": "python",
   "name": "conda-env-Milpitas-py"
  },
  "language_info": {
   "codemirror_mode": {
    "name": "ipython",
    "version": 3
   },
   "file_extension": ".py",
   "mimetype": "text/x-python",
   "name": "python",
   "nbconvert_exporter": "python",
   "pygments_lexer": "ipython3",
   "version": "3.5.3"
  }
 },
 "nbformat": 4,
 "nbformat_minor": 2
}
