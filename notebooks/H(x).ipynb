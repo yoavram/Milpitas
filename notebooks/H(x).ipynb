{
 "cells": [
  {
   "cell_type": "code",
   "execution_count": 27,
   "metadata": {
    "collapsed": true
   },
   "outputs": [],
   "source": [
    "%matplotlib inline\n",
    "import matplotlib.pyplot as plt\n",
    "import numpy as np\n",
    "import seaborn as sns\n",
    "sns.set(\n",
    "    style='ticks',\n",
    "    font_scale=1.5,\n",
    "    context='paper'\n",
    ")\n",
    "import scipy.misc\n",
    "\n",
    "colors = sns.color_palette('Set1')"
   ]
  },
  {
   "cell_type": "code",
   "execution_count": 92,
   "metadata": {},
   "outputs": [],
   "source": [
    "def FA(x, ρ, W, w):\n",
    "    ω = W * x + w * (1 - x)\n",
    "    x = x * ρ * W/ω + x * (1 - ρ)    \n",
    "    return x\n",
    "\n",
    "def FB(x, ρ, W, w):\n",
    "    ω = w * x + W * (1 - x)\n",
    "    x = x * ρ * w/ω + x * (1 - ρ)\n",
    "    return x\n",
    "\n",
    "def H(x, ρ, W, w):\n",
    "    return FB(FA(x, ρ, W, w), ρ, W, w)\n",
    "\n",
    "def ddx(func, *args, dx=0.001):\n",
    "    def f(x, *args):        \n",
    "        return scipy.misc.derivative(func, x, dx=dx, args=args)\n",
    "    return f\n",
    "\n",
    "dFAdx = ddx(FA)\n",
    "dFBdx = ddx(FB)\n",
    "dHdx = ddx(H)\n",
    "\n",
    "def x_star(ρ, W, w):\n",
    "    return 1/2 - (W + w - np.sqrt((1-ρ)**2 * (W-w)**2 + 4*W*w))/(2 * (2-ρ) * (W-w))"
   ]
  },
  {
   "cell_type": "code",
   "execution_count": 93,
   "metadata": {
    "collapsed": true
   },
   "outputs": [],
   "source": [
    "x = np.linspace(0, 1, 1000)"
   ]
  },
  {
   "cell_type": "code",
   "execution_count": 108,
   "metadata": {},
   "outputs": [
    {
     "data": {
      "image/png": "[encoded data removed]",
      "text/plain": [
       "<matplotlib.figure.Figure at 0x1122b4eb8>"
      ]
     },
     "metadata": {},
     "output_type": "display_data"
    }
   ],
   "source": [
    "from mpl_toolkits.axes_grid1.inset_locator import inset_axes, zoomed_inset_axes\n",
    "fig, ax = plt.subplots()\n",
    "ρ = 0.5\n",
    "W = 1\n",
    "w = 0.1\n",
    "\n",
    "ms = 6\n",
    "\n",
    "# ax.plot(x, FA(x, ρ, W, w), label='$F_A$')\n",
    "# ax.plot(x, FB(x, ρ, W, w), label='$F_B$')\n",
    "ax.plot(x, H(x, ρ, W, w), label='$H$')\n",
    "ax.plot(x_star(ρ, W, w), x_star(ρ, W, w), 'o', markersize=ms, color='k')\n",
    "# ax.legend()\n",
    "\n",
    "ax.plot(x, x, '--', color='k', alpha=0.7)\n",
    "ax.set(\n",
    "    xlabel='$x$',\n",
    "    ylabel='$H(x)$',\n",
    "    xticks=(0, 0.5, 1),\n",
    "    yticks=(0, 0.5, 1),\n",
    "    xlim=(0, 1),\n",
    "    ylim=(0, 1)\n",
    ")\n",
    "\n",
    "ax.set_aspect(1.)\n",
    "\n",
    "size = '30%'\n",
    "axins = inset_axes(ax, width=size, height=size, loc=4, \n",
    "                   borderpad=0.8, axes_kwargs=dict(fc='#f4f4f4'))\n",
    "# axins.plot(x, dFAdx(x, ρ, W, w), label='FA')\n",
    "# axins.plot(x, dFBdx(x, ρ, W, w), label='FB')\n",
    "axins.plot(x, dHdx(x, ρ, W, w), label='H')\n",
    "axins.plot(x_star(ρ, W, w), dHdx(x_star(ρ, W, w), ρ, W, w), 'o', markersize=ms, color='k')\n",
    "axins.set(\n",
    "    xlim=(0, 1),\n",
    "    ylim=(0, None),\n",
    "    ylabel=\"$H'(x)$\",\n",
    "    yticks=[0, 2, 4]\n",
    ")\n",
    "plt.xticks(visible=False)\n",
    "plt.yticks(visible=True)\n",
    "sns.despine()\n",
    "fig.savefig('../figures/H(x).pdf')"
   ]
  },
  {
   "cell_type": "code",
   "execution_count": 48,
   "metadata": {
    "collapsed": true
   },
   "outputs": [],
   "source": [
    "from sympy import *\n",
    "init_printing()\n",
    "\n",
    "x, ρ, W, w = symbols('x, ρ, W, w'.replace(',', ''))"
   ]
  },
  {
   "cell_type": "code",
   "execution_count": 9,
   "metadata": {},
   "outputs": [
    {
     "data": {
      "image/png": "[encoded data removed]",
      "text/latex": [
       "$$- \\frac{x \\left(W ρ - \\left(ρ - 1\\right) \\left(W x - w \\left(x - 1\\right)\\right)\\right) \\left(w ρ \\left(W x - w \\left(x - 1\\right)\\right) - \\left(ρ - 1\\right) \\left(- W \\left(W x ρ - \\left(W x - w \\left(x - 1\\right)\\right) \\left(x \\left(ρ - 1\\right) + 1\\right)\\right) + w x \\left(W ρ - \\left(ρ - 1\\right) \\left(W x - w \\left(x - 1\\right)\\right)\\right)\\right)\\right)}{\\left(W x - w \\left(x - 1\\right)\\right) \\left(W \\left(W x ρ - \\left(W x - w \\left(x - 1\\right)\\right) \\left(x \\left(ρ - 1\\right) + 1\\right)\\right) - w x \\left(W ρ - \\left(ρ - 1\\right) \\left(W x - w \\left(x - 1\\right)\\right)\\right)\\right)}$$"
      ],
      "text/plain": [
       "-x⋅(W⋅ρ - (ρ - 1)⋅(W⋅x - w⋅(x - 1)))⋅(w⋅ρ⋅(W⋅x - w⋅(x - 1)) - (ρ - 1)⋅(-W⋅(W⋅x\n",
       "──────────────────────────────────────────────────────────────────────────────\n",
       "                           (W⋅x - w⋅(x - 1))⋅(W⋅(W⋅x⋅ρ - (W⋅x - w⋅(x - 1))⋅(x⋅\n",
       "\n",
       "⋅ρ - (W⋅x - w⋅(x - 1))⋅(x⋅(ρ - 1) + 1)) + w⋅x⋅(W⋅ρ - (ρ - 1)⋅(W⋅x - w⋅(x - 1))\n",
       "──────────────────────────────────────────────────────────────────────────────\n",
       "(ρ - 1) + 1)) - w⋅x⋅(W⋅ρ - (ρ - 1)⋅(W⋅x - w⋅(x - 1))))                        \n",
       "\n",
       "))) \n",
       "────\n",
       "    "
      ]
     },
     "execution_count": 9,
     "metadata": {},
     "output_type": "execute_result"
    }
   ],
   "source": [
    "ω = W * x + w * (1 - x)\n",
    "FAx = x * ρ * W/ω + x * (1 - ρ)\n",
    "ω = w * FAx + W * (1 - FAx)\n",
    "Hx = FAx * ρ * w/ω + FAx * (1 - ρ)\n",
    "Hx = simplify(Hx)\n",
    "Hx"
   ]
  },
  {
   "cell_type": "code",
   "execution_count": 19,
   "metadata": {},
   "outputs": [
    {
     "data": {
      "image/png": "[encoded data removed]",
      "text/latex": [
       "$$\\left\\{0, 1, \\frac{1}{- 2 W ρ + 4 W + 2 w ρ - 4 w} \\left(- W ρ + W + w ρ - 3 w - \\sqrt{W^{2} ρ^{2} - 2 W^{2} ρ + W^{2} - 2 W w ρ^{2} + 4 W w ρ + 2 W w + w^{2} ρ^{2} - 2 w^{2} ρ + w^{2}}\\right), \\frac{1}{- 2 W ρ + 4 W + 2 w ρ - 4 w} \\left(- W ρ + W + w ρ - 3 w + \\sqrt{W^{2} ρ^{2} - 2 W^{2} ρ + W^{2} - 2 W w ρ^{2} + 4 W w ρ + 2 W w + w^{2} ρ^{2} - 2 w^{2} ρ + w^{2}}\\right)\\right\\} \\setminus \\left\\{\\frac{w}{- W + w}, - \\frac{\\sqrt{\\left(ρ - 1\\right) \\left(W^{2} ρ - W^{2} - 2 W w ρ - 2 W w + w^{2} ρ - w^{2}\\right)} \\left(- W + w\\right)}{2 \\left(- W^{2} ρ + W^{2} + 2 W w ρ - 2 W w - w^{2} ρ + w^{2}\\right)} + \\frac{1}{2}, \\frac{\\sqrt{\\left(ρ - 1\\right) \\left(W^{2} ρ - W^{2} - 2 W w ρ - 2 W w + w^{2} ρ - w^{2}\\right)} \\left(- W + w\\right)}{2 \\left(- W^{2} ρ + W^{2} + 2 W w ρ - 2 W w - w^{2} ρ + w^{2}\\right)} + \\frac{1}{2}\\right\\}$$"
      ],
      "text/plain": [
       "⎧                                _____________________________________________\n",
       "⎪                               ╱  2  2      2      2          2              \n",
       "⎨      -W⋅ρ + W + w⋅ρ - 3⋅w - ╲╱  W ⋅ρ  - 2⋅W ⋅ρ + W  - 2⋅W⋅w⋅ρ  + 4⋅W⋅w⋅ρ + 2\n",
       "⎪0, 1, ───────────────────────────────────────────────────────────────────────\n",
       "⎩                                          -2⋅W⋅ρ + 4⋅W + 2⋅w⋅ρ - 4⋅w         \n",
       "                                                                              \n",
       "                                                                              \n",
       "\n",
       "___________________________                            _______________________\n",
       "        2  2      2      2                            ╱  2  2      2      2   \n",
       "⋅W⋅w + w ⋅ρ  - 2⋅w ⋅ρ + w    -W⋅ρ + W + w⋅ρ - 3⋅w + ╲╱  W ⋅ρ  - 2⋅W ⋅ρ + W  - \n",
       "───────────────────────────, ─────────────────────────────────────────────────\n",
       "                                                                 -2⋅W⋅ρ + 4⋅W \n",
       "                                                                              \n",
       "                                                                              \n",
       "\n",
       "_________________________________________________⎫   ⎧             ___________\n",
       "       2                      2  2      2      2 ⎪   ⎪            ╱         ⎛ \n",
       "2⋅W⋅w⋅ρ  + 4⋅W⋅w⋅ρ + 2⋅W⋅w + w ⋅ρ  - 2⋅w ⋅ρ + w  ⎬   ⎪  w       ╲╱  (ρ - 1)⋅⎝W\n",
       "─────────────────────────────────────────────────⎪ \\ ⎨──────, - ──────────────\n",
       "+ 2⋅w⋅ρ - 4⋅w                                    ⎭   ⎪-W + w               ⎛  \n",
       "                                                     ⎪                   2⋅⎝- \n",
       "                                                     ⎩                        \n",
       "\n",
       "________________________________________                  ____________________\n",
       "2      2                      2      2⎞                  ╱         ⎛ 2      2 \n",
       " ⋅ρ - W  - 2⋅W⋅w⋅ρ - 2⋅W⋅w + w ⋅ρ - w ⎠ ⋅(-W + w)   1  ╲╱  (ρ - 1)⋅⎝W ⋅ρ - W  \n",
       "───────────────────────────────────────────────── + ─, ───────────────────────\n",
       " 2      2                      2      2⎞            2             ⎛   2      2\n",
       "W ⋅ρ + W  + 2⋅W⋅w⋅ρ - 2⋅W⋅w - w ⋅ρ + w ⎠                        2⋅⎝- W ⋅ρ + W \n",
       "                                                                              \n",
       "\n",
       "_______________________________             ⎫\n",
       "                     2      2⎞              ⎪\n",
       "- 2⋅W⋅w⋅ρ - 2⋅W⋅w + w ⋅ρ - w ⎠ ⋅(-W + w)   1⎪\n",
       "──────────────────────────────────────── + ─⎬\n",
       "                      2      2⎞            2⎪\n",
       " + 2⋅W⋅w⋅ρ - 2⋅W⋅w - w ⋅ρ + w ⎠             ⎪\n",
       "                                            ⎭"
      ]
     },
     "execution_count": 19,
     "metadata": {},
     "output_type": "execute_result"
    }
   ],
   "source": [
    "solveset((Hx-x),x)"
   ]
  },
  {
   "cell_type": "code",
   "execution_count": null,
   "metadata": {
    "collapsed": true
   },
   "outputs": [],
   "source": []
  }
 ],
 "metadata": {
  "kernelspec": {
   "display_name": "Python [conda env:Milpitas]",
   "language": "python",
   "name": "conda-env-Milpitas-py"
  },
  "language_info": {
   "codemirror_mode": {
    "name": "ipython",
    "version": 3
   },
   "file_extension": ".py",
   "mimetype": "text/x-python",
   "name": "python",
   "nbconvert_exporter": "python",
   "pygments_lexer": "ipython3",
   "version": "3.5.3"
  }
 },
 "nbformat": 4,
 "nbformat_minor": 2
}
