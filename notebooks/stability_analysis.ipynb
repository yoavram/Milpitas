{
 "cells": [
  {
   "cell_type": "code",
   "execution_count": 264,
   "metadata": {},
   "outputs": [],
   "source": [
    "%matplotlib inline\n",
    "import matplotlib.pyplot as plt\n",
    "import matplotlib as mpl\n",
    "import autograd.numpy as np\n",
    "from autograd import grad, jacobian\n",
    "from scipy import optimize as opt\n",
    "import numba\n",
    "from functools import lru_cache\n",
    "\n",
    "import seaborn as sns\n",
    "sns.set(\n",
    "    style='ticks'\n",
    ")\n",
    "\n",
    "from rakott.mpl import savefig_bbox, fig_panel_labels"
   ]
  },
  {
   "cell_type": "code",
   "execution_count": 2,
   "metadata": {},
   "outputs": [],
   "source": [
    "W = 1.0\n",
    "w = 0.1\n",
    "ρ = 0.5\n",
    "P = 0.2"
   ]
  },
  {
   "cell_type": "code",
   "execution_count": 3,
   "metadata": {},
   "outputs": [
    {
     "name": "stdout",
     "output_type": "stream",
     "text": [
      "f1(0.25) = 0.5096153846153846\n",
      "df1(0.25) = 0.9733727810650887\n"
     ]
    }
   ],
   "source": [
    "def f1(x, wA, wB, ρ, dx=0):    \n",
    "    wbar = x * wA + (1 - x) * wB\n",
    "    x = ρ * x * wA/wbar + (1 - ρ) * x\n",
    "    if dx > 0:\n",
    "        x += dx * np.sign(wB - wA)\n",
    "    return x\n",
    "nf1 = numba.jit(f1)\n",
    "df1 = grad(f1)\n",
    "\n",
    "x = 0.25\n",
    "print('f1(0.25) =', f1(0.25, W, w, ρ))\n",
    "print('df1(0.25) =', df1(0.25, W, w, ρ))\n",
    "\n",
    "dx = 1e-4\n",
    "assert np.isclose(f1(x + dx, W, w, ρ, dx=1e-10), f1(x, W, w, ρ, dx=1e-10) + df1(x, W, w, ρ, dx=1e-10) * dx)"
   ]
  },
  {
   "cell_type": "code",
   "execution_count": 28,
   "metadata": {},
   "outputs": [
    {
     "name": "stdout",
     "output_type": "stream",
     "text": [
      "457 ns ± 34.4 ns per loop (mean ± std. dev. of 7 runs, 1000000 loops each)\n",
      "318 ns ± 45.8 ns per loop (mean ± std. dev. of 7 runs, 1000000 loops each)\n",
      "410 µs ± 45.9 µs per loop (mean ± std. dev. of 7 runs, 1000 loops each)\n"
     ]
    }
   ],
   "source": [
    "%timeit f1(x, W, w, ρ)\n",
    "%timeit nf1(x, W, w, ρ)\n",
    "%timeit df1(x, W, w, ρ)"
   ]
  },
  {
   "cell_type": "code",
   "execution_count": 4,
   "metadata": {},
   "outputs": [],
   "source": [
    "def F1(x, W, w, ρ, k, l, dx=0): \n",
    "    for _ in range(k):\n",
    "        x = f1(x, W, w, ρ, dx=dx)\n",
    "    for _ in range(l):\n",
    "        x = f1(x, w, W, ρ, dx=dx)\n",
    "    return x\n",
    "nF1 = numba.jit(F1)\n",
    "dF1 = jacobian(F1)\n",
    "\n",
    "assert np.isclose(F1(x + dx, W, w, ρ, 1, 1, dx=1e-10), F1(x, W, w, ρ, 1, 1, dx=1e-10) + dF1(x, W, w, ρ, 1, 1, dx=1e-10) * dx)"
   ]
  },
  {
   "cell_type": "code",
   "execution_count": 5,
   "metadata": {},
   "outputs": [
    {
     "name": "stdout",
     "output_type": "stream",
     "text": [
      "2.31 µs ± 152 ns per loop (mean ± std. dev. of 7 runs, 100000 loops each)\n",
      "The slowest run took 8.31 times longer than the fastest. This could mean that an intermediate result is being cached.\n",
      "32.1 µs ± 30.6 µs per loop (mean ± std. dev. of 7 runs, 1 loop each)\n",
      "1.04 ms ± 81.9 µs per loop (mean ± std. dev. of 7 runs, 1000 loops each)\n"
     ]
    }
   ],
   "source": [
    "%timeit F1(x, W, w, ρ, 2, 2)\n",
    "%timeit nF1(x, W, w, ρ, 2, 2)\n",
    "%timeit dF1(x, W, w, ρ, 2, 2)"
   ]
  },
  {
   "cell_type": "markdown",
   "metadata": {},
   "source": [
    "# Stability of phenotypes with a single modifier"
   ]
  },
  {
   "cell_type": "code",
   "execution_count": 5,
   "metadata": {},
   "outputs": [],
   "source": [
    "w, k, l = 0.1, 10, 10\n",
    "ρ = 0.1"
   ]
  },
  {
   "cell_type": "code",
   "execution_count": null,
   "metadata": {},
   "outputs": [],
   "source": [
    "xs = np.linspace(1e-10, 1-1e-10, 1001)\n",
    "ys = np.array([F1(x, 1, w, ρ, k, l) for x in xs])\n",
    "dys = np.array([dF1(x, 1, w, ρ, k, l) for x in xs])\n",
    "argdy0 = dys.argmin()\n",
    "argy0 = abs(ys-xs)[1:-1].argmin() + 1"
   ]
  },
  {
   "cell_type": "code",
   "execution_count": 7,
   "metadata": {
    "scrolled": true
   },
   "outputs": [
    {
     "data": {
      "image/png": "[encoded data removed]",
      "text/plain": [
       "<matplotlib.figure.Figure at 0x1184fde48>"
      ]
     },
     "metadata": {},
     "output_type": "display_data"
    }
   ],
   "source": [
    "fig, axes = plt.subplots(1, 2, figsize=(8, 4))\n",
    "axes[0].plot(xs, ys)\n",
    "axes[0].plot(xs, xs, ls='--', alpha=0.75)\n",
    "axes[0].plot(xs[argy0], ys[argy0], '^k')\n",
    "axes[0].plot(xs[argdy0], ys[argdy0], 'ok')\n",
    "axes[0].set(title=r'$F1(x)$', xlabel='$x$', ylabel='$F(x)$', xlim=(0,1), ylim=(0,1))\n",
    "axes[1].plot(xs, dys)\n",
    "axes[1].plot(xs[argy0], ys[argy0], '^k')\n",
    "axes[1].plot(xs[argy0], dys[argy0], 'ok')\n",
    "axes[0].set(title=r'$dF1/dx$', xlabel='$x$', ylabel='$dF/dx(x)$', xlim=(0,1));"
   ]
  },
  {
   "cell_type": "code",
   "execution_count": 106,
   "metadata": {},
   "outputs": [],
   "source": [
    "def stablex1_opt(W, w, ρ, k, l, x0=0.5, dx=0):    \n",
    "    def objective(x, W, w, ρ, k, l):\n",
    "        return abs(F1(x, W, w, ρ, k, l, dx=dx) - x)\n",
    "    jac = grad(objective)\n",
    "    nobj = numba.jit(objective)\n",
    "    res = opt.minimize(nobj, x0, (1, w, ρ, k, l), jac=jac, method='TNC', bounds=((0, 1),))\n",
    "    assert res.success, res\n",
    "    assert np.isclose(F1(res.x, W, w, ρ, k, l), res.x), '{}->{}'.format(res.x, F1(res.x, W, w, ρ, k, l))\n",
    "    return res.x[0]"
   ]
  },
  {
   "cell_type": "code",
   "execution_count": 107,
   "metadata": {},
   "outputs": [
    {
     "data": {
      "text/plain": [
       "True"
      ]
     },
     "execution_count": 107,
     "metadata": {},
     "output_type": "execute_result"
    }
   ],
   "source": [
    "x = stablex1_opt(W, w, ρ, k, l)\n",
    "np.isclose(x, F1(x, W, w, ρ, k, l))"
   ]
  },
  {
   "cell_type": "code",
   "execution_count": 108,
   "metadata": {},
   "outputs": [],
   "source": [
    "@numba.jit()\n",
    "def stablex1_itr(W, w, ρ, k, l, x0=0.5, dx=0):\n",
    "    x = x0\n",
    "    x_prev = -1\n",
    "    while not np.isclose(x, x_prev):\n",
    "        x, x_prev = F1(x, W, w, ρ, k, l, dx=dx), x\n",
    "#     assert np.isclose(F1(x, W, w, ρ, k, l, dx=dx), x)\n",
    "    return x"
   ]
  },
  {
   "cell_type": "code",
   "execution_count": 109,
   "metadata": {},
   "outputs": [
    {
     "data": {
      "text/plain": [
       "True"
      ]
     },
     "execution_count": 109,
     "metadata": {},
     "output_type": "execute_result"
    }
   ],
   "source": [
    "x = stablex1_itr(W, w, ρ, k, l, dx=1e-8)\n",
    "np.isclose(x, F1(x, W, w, ρ, k, l, dx=1e-8))"
   ]
  },
  {
   "cell_type": "code",
   "execution_count": 35,
   "metadata": {},
   "outputs": [
    {
     "name": "stdout",
     "output_type": "stream",
     "text": [
      "142 ms ± 11.3 ms per loop (mean ± std. dev. of 7 runs, 10 loops each)\n",
      "13.9 ms ± 965 µs per loop (mean ± std. dev. of 7 runs, 100 loops each)\n"
     ]
    }
   ],
   "source": [
    "%timeit stablex1_opt(W, w, ρ, k, l)\n",
    "%timeit stablex1_itr(W, w, ρ, k, l)"
   ]
  },
  {
   "cell_type": "code",
   "execution_count": 113,
   "metadata": {},
   "outputs": [],
   "source": [
    "xopt, xitr = stablex1_opt(W, w, ρ, k, l), stablex1_itr(W, w, ρ, k, l)"
   ]
  },
  {
   "cell_type": "code",
   "execution_count": 114,
   "metadata": {},
   "outputs": [
    {
     "data": {
      "text/plain": [
       "(0.0, -1.8016789190651618e-07)"
      ]
     },
     "execution_count": 114,
     "metadata": {},
     "output_type": "execute_result"
    }
   ],
   "source": [
    "xopt, F1(xopt, W, w, ρ, k, l, dx=1e-8)"
   ]
  },
  {
   "cell_type": "code",
   "execution_count": 115,
   "metadata": {},
   "outputs": [
    {
     "data": {
      "text/plain": [
       "(0.11658307118849444, 0.11658266118621288)"
      ]
     },
     "execution_count": 115,
     "metadata": {},
     "output_type": "execute_result"
    }
   ],
   "source": [
    "xitr, F1(xitr, W, w, ρ, k, l, dx=1e-8)"
   ]
  },
  {
   "cell_type": "code",
   "execution_count": 116,
   "metadata": {},
   "outputs": [],
   "source": [
    "stablex1 = lru_cache()(stablex1_itr)"
   ]
  },
  {
   "cell_type": "code",
   "execution_count": 32,
   "metadata": {},
   "outputs": [
    {
     "name": "stdout",
     "output_type": "stream",
     "text": [
      "2.27 ms ± 248 µs per loop (mean ± std. dev. of 7 runs, 100 loops each)\n",
      "315 ns ± 28.2 ns per loop (mean ± std. dev. of 7 runs, 1000000 loops each)\n"
     ]
    }
   ],
   "source": [
    "%timeit stablex1_itr(W, w, ρ, k, l)\n",
    "%timeit stablex1(W, w, ρ, k, l)"
   ]
  },
  {
   "cell_type": "markdown",
   "metadata": {},
   "source": [
    "# Stability of modifiers"
   ]
  },
  {
   "cell_type": "code",
   "execution_count": 117,
   "metadata": {},
   "outputs": [],
   "source": [
    "W, w = 1.0, 0.5\n",
    "k, l = 1, 1\n",
    "ρ, P = 0.1, 0.9"
   ]
  },
  {
   "cell_type": "code",
   "execution_count": 118,
   "metadata": {},
   "outputs": [
    {
     "name": "stdout",
     "output_type": "stream",
     "text": [
      "f2(x) = [ 0.71235294  0.28764706  0.          0.        ]\n",
      "df2(x) = [[ 0.92076125 -0.04844291  0.06193772 -0.41903114]\n",
      " [-0.02076125  0.94844291 -0.3384083   0.73079585]\n",
      " [ 0.          0.          1.14117647  0.04117647]\n",
      " [ 0.          0.          0.03529412  0.54705882]]\n"
     ]
    }
   ],
   "source": [
    "A = np.array([1,0,1,0])\n",
    "B = np.array([0,1,0,1])\n",
    "\n",
    "def Tf2(x, wA, wB, ρ, P):\n",
    "    S = A * wA + B * wB     \n",
    "    xA = A @ x\n",
    "    xB = B @ x\n",
    "    wbar = S @ x\n",
    "    S = np.diag(S) / wbar\n",
    "\n",
    "    Q = np.array(\n",
    "        [[xA, xA, 0, 0],\n",
    "         [xB, xB, 0, 0],\n",
    "         [0, 0, xA, xA],\n",
    "         [0, 0, xB, xB]])\n",
    "    r = np.array([ρ, ρ, P, P])\n",
    "    R = Q @ np.diag(1-r) + np.diag(r)\n",
    "    assert np.allclose(R.sum(axis=0), 1), R.sum(axis=1)\n",
    "    \n",
    "    return R @ S\n",
    "\n",
    "def f2(x, wA, wB, ρ, P, dx=0):\n",
    "    x = Tf2(x, wA, wB, ρ, P) @ x\n",
    "    if dx > 0:\n",
    "        dv = dx * np.array([wB-wA, wA-wB, wB-wA, wA-wB])\n",
    "        x += dv\n",
    "    return x\n",
    "\n",
    "nf2 = numba.jit(f2)\n",
    "df2 = jacobian(f2)\n",
    "\n",
    "x = np.array([0.7, 0.3, 0.0, 0.0])\n",
    "print('f2(x) =', f2(x, W, w, ρ, P))\n",
    "print('df2(x) =', df2(x, W, w, ρ, P))\n",
    "\n",
    "dx = np.array([0.001, -0.001, 0, 0])\n",
    "assert np.allclose(f2(x+dx, W, w, ρ, P, dx=1e-10), f2(x, W, w, ρ, P, dx=1e-10) + df2(x, W, w, ρ, P, dx=1e-10) @ dx)"
   ]
  },
  {
   "cell_type": "code",
   "execution_count": 119,
   "metadata": {},
   "outputs": [
    {
     "name": "stdout",
     "output_type": "stream",
     "text": [
      "86.9 µs ± 2.26 µs per loop (mean ± std. dev. of 7 runs, 10000 loops each)\n",
      "98.2 µs ± 5.8 µs per loop (mean ± std. dev. of 7 runs, 10000 loops each)\n"
     ]
    }
   ],
   "source": [
    "%timeit f2(x, W, w, ρ, P)\n",
    "%timeit nf2(x, W, w, ρ, P)"
   ]
  },
  {
   "cell_type": "code",
   "execution_count": 120,
   "metadata": {},
   "outputs": [],
   "source": [
    "def F2(x, W, w, ρ, P, k, l, dx=0): \n",
    "    for _ in range(k):\n",
    "        x = f2(x, W, w, ρ, P, dx)\n",
    "    for _ in range(l):\n",
    "        x = f2(x, w, W, ρ, P, dx)\n",
    "    return x\n",
    "nF2 = numba.jit(F2)\n",
    "dF2 = jacobian(F2)\n",
    "\n",
    "dx = np.array([-1e-6, -1e-6, 1e-6, 1e-6])\n",
    "assert np.isclose(dx.sum(), 0)\n",
    "assert np.allclose(F2(x+2*dx, W, w, ρ, P, k, l), F2(x+dx, W, w, ρ, P, k, l) + dF2(x+dx, W, w, ρ, P, k, l) @ dx)"
   ]
  },
  {
   "cell_type": "code",
   "execution_count": 22,
   "metadata": {},
   "outputs": [
    {
     "name": "stdout",
     "output_type": "stream",
     "text": [
      "953 µs ± 111 µs per loop (mean ± std. dev. of 7 runs, 1000 loops each)\n",
      "1.01 ms ± 137 µs per loop (mean ± std. dev. of 7 runs, 1 loop each)\n"
     ]
    }
   ],
   "source": [
    "%timeit F2(x, W, w, ρ, P, 5, 5)\n",
    "%timeit nF2(x, W, w, ρ, P, 5, 5)"
   ]
  },
  {
   "cell_type": "code",
   "execution_count": 121,
   "metadata": {},
   "outputs": [
    {
     "data": {
      "text/plain": [
       "(0.11658307118849444, 0.11658262977396372)"
      ]
     },
     "execution_count": 121,
     "metadata": {},
     "output_type": "execute_result"
    }
   ],
   "source": [
    "W = 1.0\n",
    "w = 0.5\n",
    "ρ = 0.3\n",
    "P = 0.7\n",
    "k = 20\n",
    "l = 20\n",
    "x1 = stablex1(W, w, ρ, k, l, dx=0)\n",
    "x1, F1(x1, W, w, ρ, k, l)"
   ]
  },
  {
   "cell_type": "code",
   "execution_count": 122,
   "metadata": {},
   "outputs": [],
   "source": [
    "x = np.array([x1, 1-x1, 0, 0])\n",
    "assert np.allclose(x, F2(x, W, w, ρ, P, k, l)), \"{}->{}\".format(x, F2(x, W, w, ρ, P, k, l))"
   ]
  },
  {
   "cell_type": "code",
   "execution_count": 123,
   "metadata": {},
   "outputs": [],
   "source": [
    "xs = [x + dx]\n",
    "for _ in range(100):\n",
    "    xs.append( F2(xs[-1], W, w, ρ, P, k, l) )\n",
    "xs = np.array(xs)"
   ]
  },
  {
   "cell_type": "code",
   "execution_count": 124,
   "metadata": {},
   "outputs": [
    {
     "data": {
      "text/plain": [
       "(0, 1)"
      ]
     },
     "execution_count": 124,
     "metadata": {},
     "output_type": "execute_result"
    },
    {
     "data": {
      "image/png": "[encoded data removed]",
      "text/plain": [
       "<matplotlib.figure.Figure at 0x123dd3630>"
      ]
     },
     "metadata": {},
     "output_type": "display_data"
    }
   ],
   "source": [
    "fig, axes = plt.subplots(1, 2, figsize=(10, 4))\n",
    "axes[0].plot(xs[:,0], label='mA')\n",
    "axes[0].plot(xs[:,1], label='mB')\n",
    "axes[0].plot(xs[:,2], label='MA')\n",
    "axes[0].plot(xs[:,3], label='MB')\n",
    "axes[0].legend()\n",
    "axes[0].set_ylim(0, 1)\n",
    "\n",
    "axes[1].plot(xs[:,0] + xs[:,1], label='m')\n",
    "axes[1].plot(xs[:,2] + xs[:,3], label='M')\n",
    "axes[1].legend()\n",
    "axes[1].set_ylim(0, 1)"
   ]
  },
  {
   "cell_type": "code",
   "execution_count": 125,
   "metadata": {},
   "outputs": [
    {
     "name": "stdout",
     "output_type": "stream",
     "text": [
      "[[  3.96512861e-01  -8.26757184e-02  -4.08222672e+01  -3.59611735e+00]\n",
      " [ -3.96519320e-01   8.26761235e-02  -5.38872954e+01  -4.13435361e+00]\n",
      " [  1.18186803e-07   9.61604369e-08   6.68695411e+00   5.45809010e-01]\n",
      " [  6.97737736e-06   1.35350615e-07   8.80226091e+01   7.18466258e+00]]\n",
      "[[  6.68695411   0.54580901]\n",
      " [ 88.02260914   7.18466258]]\n"
     ]
    }
   ],
   "source": [
    "J = dF2(x, W, w, ρ, P, k, l, dx=1e-8)\n",
    "print(J)\n",
    "Lex = J[2:, 2:]\n",
    "print(Lex)"
   ]
  },
  {
   "cell_type": "code",
   "execution_count": 126,
   "metadata": {},
   "outputs": [
    {
     "data": {
      "text/plain": [
       "[<matplotlib.lines.Line2D at 0x123ddd278>]"
      ]
     },
     "execution_count": 126,
     "metadata": {},
     "output_type": "execute_result"
    },
    {
     "data": {
      "image/png": "[encoded data removed]",
      "text/plain": [
       "<matplotlib.figure.Figure at 0x111905780>"
      ]
     },
     "metadata": {},
     "output_type": "display_data"
    }
   ],
   "source": [
    "plt.plot(F2(x + 2*dx, W, w, ρ, P, k, l), x + J @ dx, 'o')\n",
    "plt.yscale('log')\n",
    "plt.xscale('log')\n",
    "plt.plot(np.logspace(-8, 0), np.logspace(-8, 0), '--')"
   ]
  },
  {
   "cell_type": "code",
   "execution_count": 127,
   "metadata": {},
   "outputs": [
    {
     "data": {
      "text/plain": [
       "(0.3, 0.7, True)"
      ]
     },
     "execution_count": 127,
     "metadata": {},
     "output_type": "execute_result"
    }
   ],
   "source": [
    "ρ, P, np.linalg.eigvals(Lex).max() > 1"
   ]
  },
  {
   "cell_type": "code",
   "execution_count": 162,
   "metadata": {},
   "outputs": [
    {
     "data": {
      "text/plain": [
       "True"
      ]
     },
     "execution_count": 162,
     "metadata": {},
     "output_type": "execute_result"
    }
   ],
   "source": [
    "def external_stability_matrix(W, w, ρ, P, k, l, dx=1e-8):\n",
    "    args1 = (W, w, ρ, k, l)\n",
    "    args2 = (W, w, ρ, P, k, l)\n",
    "    x1 = stablex1(*args1)\n",
    "    assert np.allclose(x1, F1(x1, *args1)), \"{}->{}\".format(x1, F1(x1, *args1))\n",
    "    x = np.array([x1, 1-x1, 0, 0])\n",
    "    assert np.allclose(x, F2(x, *args2)), \"{}->{}\".format(x, F2(x, *args2))\n",
    "    J = dF2(x, *args2, dx=dx)\n",
    "    L = J[2:,2:]\n",
    "    return L\n",
    "    \n",
    "def λ1(W, w, ρ, P, k, l, dx=1e-8):\n",
    "    # np.linalg.eigvals not supported by autograd, using formula\n",
    "    # the standard formula losses precision, using non-standard\n",
    "    # see: https://en.wikipedia.org/wiki/Loss_of_significance#Instability_of_the_quadratic_equation\n",
    "    L = external_stability_matrix(W, w, ρ, P, k, l, dx=dx)\n",
    "    # L = | L11 L12 |\n",
    "    #     | L21 L22 |\n",
    "    L11, L12, L21, L22 = L.ravel()\n",
    "    # a = 1\n",
    "    b = -(L11 + L22)\n",
    "    c = L11 * L22 - L12 * L21\n",
    "    D = np.sqrt(b**2 - 4*c)\n",
    "    x1 = (-b - np.sign(b) * D) / 2\n",
    "    assert np.isreal(x1), x1\n",
    "    x2 = c / x1\n",
    "    assert np.isreal(x2), x2\n",
    "    return np.maximum(x1, x2)\n",
    "dλ1 = grad(λ1, 3)\n",
    "\n",
    "Lex = external_stability_matrix(W, w, ρ, P, k, l, dx=1e-8)\n",
    "np.isclose(λ1(W, w, ρ, P, k, l, dx=1e-8), np.linalg.eigvals(Lex).max())"
   ]
  },
  {
   "cell_type": "code",
   "execution_count": 136,
   "metadata": {},
   "outputs": [],
   "source": [
    "from concurrent.futures import ProcessPoolExecutor as Executor\n",
    "from concurrent.futures import wait"
   ]
  },
  {
   "cell_type": "code",
   "execution_count": 163,
   "metadata": {},
   "outputs": [],
   "source": [
    "def vλ1(W, w, ρs, Ps, k, l):\n",
    "    with Executor() as exe:\n",
    "        futures = [[exe.submit(λ1, W, w, ρ, P, k, l) for P in Ps] for ρ in ρs]\n",
    "    return np.array([[f.result() for f in fs] for fs in futures])"
   ]
  },
  {
   "cell_type": "code",
   "execution_count": 495,
   "metadata": {},
   "outputs": [
    {
     "data": {
      "text/plain": [
       "[0.5, 0.50174301268229027]"
      ]
     },
     "execution_count": 495,
     "metadata": {},
     "output_type": "execute_result"
    }
   ],
   "source": [
    "def grad_descent(W, w, k, l, ρ0=0.5, η=1e-2, \n",
    "                 η0=1e-4, η_factor=2, convergence_tol=1e-2, λ1_atol=1e-6):\n",
    "    ρ = ρ0\n",
    "    ρs = [-1, ρ]\n",
    "    η_ = η\n",
    "    while η > η0 and not np.isclose(ρs[-1], ρs[-2], atol=convergence_tol) and 0 < ρ < 1:\n",
    "        P = ρ + η * dλ1(W, w, ρ, ρ, k, l)\n",
    "        if λ1(W, w, ρ, P, k, l) > 1-λ1_atol:\n",
    "            ρ = P\n",
    "            ρs.append(ρ)\n",
    "            η = η_\n",
    "        else:\n",
    "            η /= η_factor\n",
    "    ρs.pop(0)\n",
    "    if ρs[-1] < 0:\n",
    "        ρs[-1] = 0\n",
    "    elif ρs[-1] > 1:\n",
    "        ρs[-1] = 1\n",
    "    return ρs\n",
    "\n",
    "ps = grad_descent(W, w, 20, 20, η=0.01)\n",
    "ps"
   ]
  },
  {
   "cell_type": "code",
   "execution_count": 294,
   "metadata": {},
   "outputs": [],
   "source": [
    "ρs = np.linspace(1e-8, 1-1e-8, 100)\n",
    "Ps = np.linspace(1e-8, 1-1e-8, 101)"
   ]
  },
  {
   "cell_type": "code",
   "execution_count": 502,
   "metadata": {},
   "outputs": [],
   "source": [
    "W, w = 1, 0.1"
   ]
  },
  {
   "cell_type": "markdown",
   "metadata": {},
   "source": [
    "$\\eta$ requires adjusting depending on $w$ and $k,l$."
   ]
  },
  {
   "cell_type": "code",
   "execution_count": 459,
   "metadata": {},
   "outputs": [],
   "source": [
    "k, l = 1, 1"
   ]
  },
  {
   "cell_type": "code",
   "execution_count": 339,
   "metadata": {},
   "outputs": [],
   "source": [
    "λs1 = vλ1(W, w, ρs, Ps, k, l)"
   ]
  },
  {
   "cell_type": "code",
   "execution_count": 414,
   "metadata": {},
   "outputs": [],
   "source": [
    "ps1 = grad_descent(W, w, k, l, ρ0=0.5, η=0.1)"
   ]
  },
  {
   "cell_type": "code",
   "execution_count": 460,
   "metadata": {},
   "outputs": [],
   "source": [
    "k, l = 10, 10"
   ]
  },
  {
   "cell_type": "code",
   "execution_count": 342,
   "metadata": {},
   "outputs": [],
   "source": [
    "λs10 = vλ1(W, w, ρs, Ps, k, l)"
   ]
  },
  {
   "cell_type": "code",
   "execution_count": 343,
   "metadata": {},
   "outputs": [],
   "source": [
    "ps10 = grad_descent(W, w, k, l, ρ0=0.5, η=0.01)"
   ]
  },
  {
   "cell_type": "code",
   "execution_count": 461,
   "metadata": {},
   "outputs": [],
   "source": [
    "k, l = 20, 20"
   ]
  },
  {
   "cell_type": "code",
   "execution_count": 345,
   "metadata": {},
   "outputs": [],
   "source": [
    "λs20 = vλ1(W, w, ρs, Ps, k, l)"
   ]
  },
  {
   "cell_type": "code",
   "execution_count": 346,
   "metadata": {},
   "outputs": [],
   "source": [
    "ps20 = grad_descent(W, w, k, l, ρ0=0.5, η=0.01)"
   ]
  },
  {
   "cell_type": "code",
   "execution_count": 462,
   "metadata": {},
   "outputs": [],
   "source": [
    "k, l = 40, 40"
   ]
  },
  {
   "cell_type": "code",
   "execution_count": 348,
   "metadata": {},
   "outputs": [],
   "source": [
    "λs40 = vλ1(W, w, ρs, Ps, k, l)"
   ]
  },
  {
   "cell_type": "code",
   "execution_count": 416,
   "metadata": {},
   "outputs": [],
   "source": [
    "ps40 = grad_descent(W, w, k, l, ρ0=0.5, η=0.01)"
   ]
  },
  {
   "cell_type": "code",
   "execution_count": 539,
   "metadata": {},
   "outputs": [],
   "source": [
    "np.savez_compressed('AkBk_stable_modifier_w_{}.npz'.format(w), \n",
    "                    Ps=Ps, ρs=ρs, λs1=λs1, λs10=λs10, λs20=λs20, λs40=λs40, \n",
    "                    ps1=ps1, ps10=ps10, ps20=ps20, ps40=ps40)"
   ]
  },
  {
   "cell_type": "code",
   "execution_count": 558,
   "metadata": {},
   "outputs": [],
   "source": [
    "d = np.load('AkBk_stable_modifier_w_{}.npz'.format(w))\n",
    "Ps=d['Ps']\n",
    "ρs=d['ρs']\n",
    "λs1=d['λs1']\n",
    "λs10=d['λs10']\n",
    "λs20=d['λs20']\n",
    "λs40=d['λs40']\n",
    "ps1=d['ps1']\n",
    "ps10=d['ps10']\n",
    "ps20=d['ps20']\n",
    "ps40=d['ps40']\n",
    "\n",
    "del d"
   ]
  },
  {
   "cell_type": "code",
   "execution_count": 525,
   "metadata": {},
   "outputs": [],
   "source": [
    "from matplotlib_colorbar.colorbar import Colorbar\n",
    "\n",
    "def stability_plot(Ps, ρs, λs, ps, ax=None, arrow_kws=None, bounds=None):\n",
    "    if ax is None:\n",
    "        _, ax = plt.subplots()\n",
    "    if bounds is None: \n",
    "        d = min(1 - np.nanmin(λs), np.nanmax(λs) - 1)\n",
    "        bounds = np.linspace(1-d, 1+d, 256)\n",
    "    if arrow_kws is None: arrow_kws = dict()\n",
    "    for k, v in dict(length_includes_head = True, head_width=0.015, color='k').items():\n",
    "        if k not in arrow_kws: arrow_kws[k] = v\n",
    "    norm = mpl.colors.BoundaryNorm(boundaries=bounds, ncolors=bounds.size)\n",
    "    im = ax.pcolormesh(Ps, ρs, λs, cmap='PRGn', norm=norm, rasterized=True)\n",
    "    colorbar = Colorbar(im, location='lower right', length_fraction=0.25, ticks=[1],\n",
    "                        box_alpha=0.75, font_properties=dict(size='small'),)    \n",
    "    ax.add_artist(colorbar)\n",
    "    xlabel = ax.set_xlabel(r'Invader rate - $P$')\n",
    "    ylabel = ax.set_ylabel(r'Resident rate - $\\rho$')\n",
    "    ax.plot(Ps, Ps, color='k', linestyle='--', linewidth=0.75)\n",
    "    for p, P in zip(ps[:-1], ps[1:]):\n",
    "        ax.arrow(p, p, P-p, 0, **arrow_kws)\n",
    "        ax.arrow(P, p, 0, P-p, **arrow_kws)"
   ]
  },
  {
   "cell_type": "code",
   "execution_count": 524,
   "metadata": {},
   "outputs": [],
   "source": [
    "def log_bounds(λs):\n",
    "    # these bounds work well for w=0.5\n",
    "    d = min(np.log(1 - np.nanmin(λs)), np.log(np.nanmax(λs) - 1)) \n",
    "    return np.linspace(1-d, 1+d, 256)"
   ]
  },
  {
   "cell_type": "code",
   "execution_count": 612,
   "metadata": {},
   "outputs": [
    {
     "name": "stdout",
     "output_type": "stream",
     "text": [
      "../figures/AkBk_stable_modifier_w_0.1\n"
     ]
    },
    {
     "name": "stderr",
     "output_type": "stream",
     "text": [
      "/Users/yoavram/miniconda3/envs/Milpitas/lib/python3.6/site-packages/matplotlib/colors.py:1221: RuntimeWarning: invalid value encountered in greater_equal\n",
      "  iret[xx >= b] = i\n",
      "/Users/yoavram/miniconda3/envs/Milpitas/lib/python3.6/site-packages/matplotlib/colors.py:1225: RuntimeWarning: invalid value encountered in less\n",
      "  iret[xx < self.vmin] = -1\n",
      "/Users/yoavram/miniconda3/envs/Milpitas/lib/python3.6/site-packages/matplotlib/colors.py:1226: RuntimeWarning: invalid value encountered in greater_equal\n",
      "  iret[xx >= self.vmax] = max_col\n"
     ]
    },
    {
     "data": {
      "image/png": "[encoded data removed]",
      "text/plain": [
       "<matplotlib.figure.Figure at 0x12a354a90>"
      ]
     },
     "metadata": {},
     "output_type": "display_data"
    }
   ],
   "source": [
    "fig, axes = plt.subplots(2, 2, figsize=(8, 7.5), sharex=True, sharey=True)\n",
    "axes = axes.ravel()\n",
    "\n",
    "stability_plot(Ps, ρs, λs1, ps1, axes[0])\n",
    "stability_plot(Ps, ρs, λs10, ps10, axes[1])\n",
    "stability_plot(Ps, ρs, λs20, ps20, axes[2], bounds=np.linspace(0, 2, 256))\n",
    "stability_plot(Ps, ρs, λs40, [], axes[3], bounds=np.linspace(0, 2, 256))\n",
    "\n",
    "axes[0].set(title='k=l=1', xlabel='')\n",
    "axes[1].set(title='k=l=10', xlabel='', ylabel='')\n",
    "axes[2].set(title='k=l=20')\n",
    "axes[3].set(title='k=l=40', ylabel='')\n",
    "\n",
    "fig_panel_labels(axes, xcoord=0, ycoord=1.01)\n",
    "fig.tight_layout(w_pad=2)\n",
    "fname = '../figures/AkBk_stable_modifier_w_{}'.format(w)\n",
    "print(fname)\n",
    "fig.savefig(fname+'.pdf')#, **savefig_bbox(xlabel, ylabel))\n",
    "fig.savefig(fname+'.png')#, **savefig_bbox(xlabel, ylabel))"
   ]
  }
 ],
 "metadata": {
  "kernelspec": {
   "display_name": "Python [conda env:Milpitas]",
   "language": "python",
   "name": "conda-env-Milpitas-py"
  },
  "language_info": {
   "codemirror_mode": {
    "name": "ipython",
    "version": 3
   },
   "file_extension": ".py",
   "mimetype": "text/x-python",
   "name": "python",
   "nbconvert_exporter": "python",
   "pygments_lexer": "ipython3",
   "version": "3.6.2"
  }
 },
 "nbformat": 4,
 "nbformat_minor": 2
}
