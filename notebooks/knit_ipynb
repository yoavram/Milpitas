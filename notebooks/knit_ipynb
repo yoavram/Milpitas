 jupyter nbconvert --to rst simulation.ipynb
 pandoc simulation.rst -o simulation.pdf --latex-engine=xelatex
 open simulation.pdf