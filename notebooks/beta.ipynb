{
 "cells": [
  {
   "cell_type": "code",
   "execution_count": 1,
   "metadata": {
    "collapsed": true
   },
   "outputs": [],
   "source": [
    "%matplotlib inline\n",
    "import matplotlib.pyplot as plt\n",
    "import numpy as np \n",
    "from scipy import stats"
   ]
  },
  {
   "cell_type": "code",
   "execution_count": 49,
   "metadata": {
    "collapsed": true
   },
   "outputs": [],
   "source": [
    "def X(π, β, n=1): \n",
    "    if π == 0:\n",
    "        return np.zeros(n)\n",
    "    elif π == 1:\n",
    "        return np.ones(n)\n",
    "    else:\n",
    "        return np.random.beta(π/(1-π)*β, β, n)"
   ]
  },
  {
   "cell_type": "code",
   "execution_count": 59,
   "metadata": {
    "collapsed": false
   },
   "outputs": [
    {
     "data": {
      "text/plain": [
       "<matplotlib.legend.Legend at 0x119f8df60>"
      ]
     },
     "execution_count": 59,
     "metadata": {},
     "output_type": "execute_result"
    },
    {
     "data": {
      "image/png": "[encoded data removed]",
      "text/plain": [
       "<matplotlib.figure.Figure at 0x119e7ddd8>"
      ]
     },
     "metadata": {},
     "output_type": "display_data"
    }
   ],
   "source": [
    "x = np.linspace(0, 1, 500)\n",
    "plt.plot(x, [X(_, 1e-10, 1000).mean() for _ in x], label='mean')\n",
    "plt.plot(x, [X(_, 1e-10, 1000).std() for _ in x], label='std')\n",
    "plt.axvline(0.5 , color='k')\n",
    "plt.legend()"
   ]
  },
  {
   "cell_type": "markdown",
   "metadata": {},
   "source": [
    "$$\n",
    "E = \\frac{\\alpha}{\\alpha+\\beta} = \\pi \\Rightarrow \\alpha = \\frac{\\pi}{1 - \\pi} \\beta\n",
    "$$\n",
    "$$\n",
    "V = \\frac{\\alpha \\beta}{(\\alpha + \\beta)^2 (\\alpha + \\beta + 1)} = \\\\\n",
    "\\frac{\\frac{\\pi}{1 - \\pi} }{(1+\\frac{\\pi}{1 - \\pi})^2 + \\beta(1+\\frac{\\pi}{1 - \\pi})^3} = \\\\\n",
    "$$"
   ]
  },
  {
   "cell_type": "code",
   "execution_count": 18,
   "metadata": {
    "collapsed": true
   },
   "outputs": [],
   "source": [
    "import sympy\n",
    "sympy.init_printing()"
   ]
  },
  {
   "cell_type": "code",
   "execution_count": 19,
   "metadata": {
    "collapsed": true
   },
   "outputs": [],
   "source": [
    "π, β = sympy.symbols('π β')"
   ]
  },
  {
   "cell_type": "code",
   "execution_count": 20,
   "metadata": {
    "collapsed": false
   },
   "outputs": [
    {
     "data": {
      "image/png": "[encoded data removed]",
      "text/latex": [
       "$$\\frac{π}{\\left(- π + 1\\right) \\left(β \\left(\\frac{π}{- π + 1} + 1\\right)^{3} + \\left(\\frac{π}{- π + 1} + 1\\right)^{2}\\right)}$$"
      ],
      "text/plain": [
       "                    π                     \n",
       "──────────────────────────────────────────\n",
       "         ⎛              3               2⎞\n",
       "         ⎜  ⎛  π       ⎞    ⎛  π       ⎞ ⎟\n",
       "(-π + 1)⋅⎜β⋅⎜────── + 1⎟  + ⎜────── + 1⎟ ⎟\n",
       "         ⎝  ⎝-π + 1    ⎠    ⎝-π + 1    ⎠ ⎠"
      ]
     },
     "execution_count": 20,
     "metadata": {},
     "output_type": "execute_result"
    }
   ],
   "source": [
    "x = π/(1-π)\n",
    "V = x / ((1+x)**2 + β*(1+x)**3)\n",
    "V"
   ]
  },
  {
   "cell_type": "code",
   "execution_count": 48,
   "metadata": {
    "collapsed": false
   },
   "outputs": [
    {
     "data": {
      "image/png": "[encoded data removed]",
      "text/latex": [
       "$$\\left [ 0.000200160096055829\\right ]$$"
      ],
      "text/plain": [
       "[0.000200160096055829]"
      ]
     },
     "execution_count": 48,
     "metadata": {},
     "output_type": "execute_result"
    }
   ],
   "source": [
    "sympy.solve(sympy.diff(V, π).subs({π:0.4999}), β)"
   ]
  },
  {
   "cell_type": "code",
   "execution_count": 33,
   "metadata": {
    "collapsed": false
   },
   "outputs": [],
   "source": [
    "a, b = sol*π/(1-π), sol"
   ]
  },
  {
   "cell_type": "code",
   "execution_count": 34,
   "metadata": {
    "collapsed": false
   },
   "outputs": [
    {
     "data": {
      "image/png": "[encoded data removed]",
      "text/latex": [
       "$$\\left ( \\frac{π \\left(2 π^{2} - 3 π + 1\\right)}{\\left(- π + 1\\right) \\left(3 π - 1\\right)}, \\quad \\frac{2 π^{2} - 3 π + 1}{3 π - 1}\\right )$$"
      ],
      "text/plain": [
       "⎛  ⎛   2          ⎞     2          ⎞\n",
       "⎜π⋅⎝2⋅π  - 3⋅π + 1⎠  2⋅π  - 3⋅π + 1⎟\n",
       "⎜──────────────────, ──────────────⎟\n",
       "⎝(-π + 1)⋅(3⋅π - 1)     3⋅π - 1    ⎠"
      ]
     },
     "execution_count": 34,
     "metadata": {},
     "output_type": "execute_result"
    }
   ],
   "source": [
    "a,b"
   ]
  },
  {
   "cell_type": "code",
   "execution_count": null,
   "metadata": {
    "collapsed": true
   },
   "outputs": [],
   "source": [
    "a.subs(π=0.5, )"
   ]
  }
 ],
 "metadata": {
  "kernelspec": {
   "display_name": "Python [conda env:Milpitas]",
   "language": "python",
   "name": "conda-env-Milpitas-py"
  },
  "language_info": {
   "codemirror_mode": {
    "name": "ipython",
    "version": 3
   },
   "file_extension": ".py",
   "mimetype": "text/x-python",
   "name": "python",
   "nbconvert_exporter": "python",
   "pygments_lexer": "ipython3",
   "version": "3.5.2"
  }
 },
 "nbformat": 4,
 "nbformat_minor": 2
}
