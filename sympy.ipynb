{
 "cells": [
  {
   "cell_type": "markdown",
   "metadata": {},
   "source": [
    "$$\n",
    "a_0(x) = x \\\\\n",
    "a_{n+1}(x) = \\frac{a_n(x) - \\eta}{1 - \\eta}\n",
    "$$"
   ]
  },
  {
   "cell_type": "code",
   "execution_count": 1,
   "metadata": {
    "collapsed": true
   },
   "outputs": [],
   "source": [
    "%matplotlib inline\n",
    "import matplotlib.pyplot as plt\n",
    "import numpy as np"
   ]
  },
  {
   "cell_type": "code",
   "execution_count": 36,
   "metadata": {
    "collapsed": false
   },
   "outputs": [],
   "source": [
    "η = 0.1\n",
    "n = 1000\n",
    "y = np.empty(n)\n",
    "y[0] = 1-3.27915225601e-05\n",
    "for i in range(1, n):\n",
    "    y[i] = (y[i - 1] - η)/(1.0 - η)\n",
    "    if y[i]  < 0:\n",
    "        break\n",
    "y = y[:i]"
   ]
  },
  {
   "cell_type": "code",
   "execution_count": 37,
   "metadata": {
    "collapsed": false
   },
   "outputs": [
    {
     "name": "stdout",
     "output_type": "stream",
     "text": [
      "99 9.9999986876e-06\n"
     ]
    },
    {
     "data": {
      "image/png": "[encoded data removed]",
      "text/plain": [
       "<matplotlib.figure.Figure at 0x10fa6e7b8>"
      ]
     },
     "metadata": {},
     "output_type": "display_data"
    }
   ],
   "source": [
    "plt.plot(y)\n",
    "plt.axhline(y[-1])\n",
    "print(i, y[-1])"
   ]
  },
  {
   "cell_type": "markdown",
   "metadata": {},
   "source": [
    "$$\n",
    "\\pi' = (1-\\eta)\\pi + \\eta \\delta_{i,j}\n",
    "$$"
   ]
  },
  {
   "cell_type": "markdown",
   "metadata": {},
   "source": [
    "$$\n",
    "\\pi = (1-\\eta)x + \\eta \\Rightarrow\n",
    "\\pi - \\eta = (1-\\eta)x \\Rightarrow\n",
    "(\\pi - \\eta)/(1-\\eta) = x\n",
    "$$"
   ]
  },
  {
   "cell_type": "code",
   "execution_count": 29,
   "metadata": {
    "collapsed": true
   },
   "outputs": [],
   "source": [
    "η = 0.1\n",
    "n = 100\n",
    "y = np.empty(n)\n",
    "y[0] = 0.00001\n",
    "for i in range(1, n):\n",
    "    y[i] = y[i - 1] * (1 - η) + η\n",
    "    if y[i]  > 1:\n",
    "        break\n",
    "y = y[:i]"
   ]
  },
  {
   "cell_type": "code",
   "execution_count": 30,
   "metadata": {
    "collapsed": false
   },
   "outputs": [
    {
     "name": "stdout",
     "output_type": "stream",
     "text": [
      "99 -3.27915225601e-05\n"
     ]
    },
    {
     "data": {
      "image/png": "[encoded data removed]",
      "text/plain": [
       "<matplotlib.figure.Figure at 0x11000ee80>"
      ]
     },
     "metadata": {},
     "output_type": "display_data"
    }
   ],
   "source": [
    "plt.plot(y)\n",
    "plt.axhline(y[-1])\n",
    "print(i, y[-1]-1)"
   ]
  },
  {
   "cell_type": "code",
   "execution_count": 2,
   "metadata": {
    "collapsed": true
   },
   "outputs": [],
   "source": [
    "import sympy\n",
    "sympy.init_printing()"
   ]
  },
  {
   "cell_type": "code",
   "execution_count": 40,
   "metadata": {
    "collapsed": true
   },
   "outputs": [],
   "source": [
    "x, η = sympy.symbols('x η')"
   ]
  },
  {
   "cell_type": "code",
   "execution_count": 45,
   "metadata": {
    "collapsed": true
   },
   "outputs": [],
   "source": [
    "from sympy.abc import n\n",
    "y = sympy.Function('y')"
   ]
  },
  {
   "cell_type": "code",
   "execution_count": 46,
   "metadata": {
    "collapsed": true
   },
   "outputs": [],
   "source": [
    "f = (1-η)*y(n + 1) -y(n) + η"
   ]
  },
  {
   "cell_type": "code",
   "execution_count": 48,
   "metadata": {
    "collapsed": false
   },
   "outputs": [
    {
     "data": {
      "image/png": "[encoded data removed]",
      "text/latex": [
       "$$\\left(- \\frac{1}{η - 1}\\right)^{n} \\left(x - 1\\right) + 1$$"
      ],
      "text/plain": [
       "       n            \n",
       "⎛ -1  ⎞             \n",
       "⎜─────⎟ ⋅(x - 1) + 1\n",
       "⎝η - 1⎠             "
      ]
     },
     "execution_count": 48,
     "metadata": {},
     "output_type": "execute_result"
    }
   ],
   "source": [
    "sympy.rsolve(f, y(n), { y(0): x })"
   ]
  },
  {
   "cell_type": "code",
   "execution_count": 50,
   "metadata": {
    "collapsed": true
   },
   "outputs": [],
   "source": [
    "from sympy.abc import n\n",
    "g = sympy.Function('g')\n",
    "f = g(n) - (1-η) * g(n-1) - η"
   ]
  },
  {
   "cell_type": "code",
   "execution_count": 51,
   "metadata": {
    "collapsed": false
   },
   "outputs": [
    {
     "data": {
      "image/png": "[encoded data removed]",
      "text/latex": [
       "$$\\left(x - 1\\right) \\left(- η + 1\\right)^{n} + 1$$"
      ],
      "text/plain": [
       "                n    \n",
       "(x - 1)⋅(-η + 1)  + 1"
      ]
     },
     "execution_count": 51,
     "metadata": {},
     "output_type": "execute_result"
    }
   ],
   "source": [
    "sympy.rsolve(f, g(n), {g(0): x})"
   ]
  },
  {
   "cell_type": "code",
   "execution_count": null,
   "metadata": {
    "collapsed": true
   },
   "outputs": [],
   "source": []
  },
  {
   "cell_type": "code",
   "execution_count": null,
   "metadata": {
    "collapsed": true
   },
   "outputs": [],
   "source": []
  },
  {
   "cell_type": "code",
   "execution_count": 2,
   "metadata": {
    "collapsed": true
   },
   "outputs": [],
   "source": [
    "from sympy import *\n",
    "init_printing()"
   ]
  },
  {
   "cell_type": "code",
   "execution_count": 3,
   "metadata": {
    "collapsed": false
   },
   "outputs": [],
   "source": [
    "x, ωA, ωB, η = symbols('x ωA ωB η')\n",
    "a = (1 - η) * (ωA - ωB)\n",
    "b = η * ωA + (1 - η) * ωB\n",
    "c = ωA - ωB\n",
    "d = ωB\n",
    "α = -a \n",
    "β = -b + ωA + ωB\n",
    "γ = -c\n",
    "δ = ωA"
   ]
  },
  {
   "cell_type": "code",
   "execution_count": 4,
   "metadata": {
    "collapsed": false
   },
   "outputs": [
    {
     "data": {
      "image/png": "[encoded data removed]",
      "text/latex": [
       "$$\\frac{x}{x \\left(ωA - ωB\\right) + ωB} \\left(x \\left(- η + 1\\right) \\left(ωA - ωB\\right) + η ωA + ωB \\left(- η + 1\\right)\\right)$$"
      ],
      "text/plain": [
       "x⋅(x⋅(-η + 1)⋅(ωA - ωB) + η⋅ωA + ωB⋅(-η + 1))\n",
       "─────────────────────────────────────────────\n",
       "               x⋅(ωA - ωB) + ωB              "
      ]
     },
     "execution_count": 4,
     "metadata": {},
     "output_type": "execute_result"
    }
   ],
   "source": [
    "xx = x * (a * x + b)/(c * x + d)\n",
    "xx"
   ]
  },
  {
   "cell_type": "code",
   "execution_count": 5,
   "metadata": {
    "collapsed": false
   },
   "outputs": [
    {
     "data": {
      "text/latex": [
       "$$\\left\\{0, 1\\right\\} \\setminus \\left\\{- \\frac{ωB}{ωA - ωB}\\right\\}$$"
      ],
      "text/plain": [
       "         ⎧  -ωB  ⎫\n",
       "{0, 1} \\ ⎨───────⎬\n",
       "         ⎩ωA - ωB⎭"
      ]
     },
     "execution_count": 5,
     "metadata": {},
     "output_type": "execute_result"
    }
   ],
   "source": [
    "solveset(xx - x, x)"
   ]
  },
  {
   "cell_type": "code",
   "execution_count": 6,
   "metadata": {
    "collapsed": false
   },
   "outputs": [
    {
     "data": {
      "image/png": "[encoded data removed]",
      "text/latex": [
       "$$\\frac{x \\left(x \\left(- η + 1\\right) \\left(ωA - ωB\\right) + η ωA + ωB \\left(- η + 1\\right)\\right) \\left(- \\frac{x}{x \\left(ωA - ωB\\right) + ωB} \\left(- η + 1\\right) \\left(ωA - ωB\\right) \\left(x \\left(- η + 1\\right) \\left(ωA - ωB\\right) + η ωA + ωB \\left(- η + 1\\right)\\right) - η ωA + ωA - ωB \\left(- η + 1\\right) + ωB\\right)}{\\left(x \\left(ωA - ωB\\right) + ωB\\right) \\left(\\frac{x}{x \\left(ωA - ωB\\right) + ωB} \\left(- ωA + ωB\\right) \\left(x \\left(- η + 1\\right) \\left(ωA - ωB\\right) + η ωA + ωB \\left(- η + 1\\right)\\right) + ωA\\right)}$$"
      ],
      "text/plain": [
       "                                              ⎛  x⋅(-η + 1)⋅(ωA - ωB)⋅(x⋅(-η +\n",
       "x⋅(x⋅(-η + 1)⋅(ωA - ωB) + η⋅ωA + ωB⋅(-η + 1))⋅⎜- ─────────────────────────────\n",
       "                                              ⎝                          x⋅(ωA\n",
       "──────────────────────────────────────────────────────────────────────────────\n",
       "                                                   ⎛x⋅(-ωA + ωB)⋅(x⋅(-η + 1)⋅(\n",
       "                                (x⋅(ωA - ωB) + ωB)⋅⎜──────────────────────────\n",
       "                                                   ⎝                    x⋅(ωA \n",
       "\n",
       " 1)⋅(ωA - ωB) + η⋅ωA + ωB⋅(-η + 1))                               ⎞\n",
       "─────────────────────────────────── - η⋅ωA + ωA - ωB⋅(-η + 1) + ωB⎟\n",
       " - ωB) + ωB                                                       ⎠\n",
       "───────────────────────────────────────────────────────────────────\n",
       "ωA - ωB) + η⋅ωA + ωB⋅(-η + 1))     ⎞                               \n",
       "────────────────────────────── + ωA⎟                               \n",
       "- ωB) + ωB                         ⎠                               "
      ]
     },
     "execution_count": 6,
     "metadata": {},
     "output_type": "execute_result"
    }
   ],
   "source": [
    "xxx = xx  * (α * xx + β) / (γ * xx + δ)\n",
    "xxx"
   ]
  },
  {
   "cell_type": "code",
   "execution_count": 7,
   "metadata": {
    "collapsed": false
   },
   "outputs": [
    {
     "data": {
      "image/png": "[encoded data removed]",
      "text/latex": [
       "$$- \\frac{x \\left(- x \\left(η - 1\\right) \\left(ωA - ωB\\right) \\left(x \\left(η - 1\\right) \\left(ωA - ωB\\right) - η ωA + ωB \\left(η - 1\\right)\\right) + \\left(x \\left(ωA - ωB\\right) + ωB\\right) \\left(- η ωA + ωA + ωB \\left(η - 1\\right) + ωB\\right)\\right) \\left(x \\left(η - 1\\right) \\left(ωA - ωB\\right) - η ωA + ωB \\left(η - 1\\right)\\right)}{\\left(x \\left(ωA - ωB\\right) + ωB\\right) \\left(x \\left(ωA - ωB\\right) \\left(x \\left(η - 1\\right) \\left(ωA - ωB\\right) - η ωA + ωB \\left(η - 1\\right)\\right) + ωA \\left(x \\left(ωA - ωB\\right) + ωB\\right)\\right)}$$"
      ],
      "text/plain": [
       "-x⋅(-x⋅(η - 1)⋅(ωA - ωB)⋅(x⋅(η - 1)⋅(ωA - ωB) - η⋅ωA + ωB⋅(η - 1)) + (x⋅(ωA - \n",
       "──────────────────────────────────────────────────────────────────────────────\n",
       "                                (x⋅(ωA - ωB) + ωB)⋅(x⋅(ωA - ωB)⋅(x⋅(η - 1)⋅(ωA\n",
       "\n",
       "ωB) + ωB)⋅(-η⋅ωA + ωA + ωB⋅(η - 1) + ωB))⋅(x⋅(η - 1)⋅(ωA - ωB) - η⋅ωA + ωB⋅(η \n",
       "──────────────────────────────────────────────────────────────────────────────\n",
       " - ωB) - η⋅ωA + ωB⋅(η - 1)) + ωA⋅(x⋅(ωA - ωB) + ωB))                          \n",
       "\n",
       "- 1)) \n",
       "──────\n",
       "      "
      ]
     },
     "execution_count": 7,
     "metadata": {},
     "output_type": "execute_result"
    }
   ],
   "source": [
    "xxx = simplify(xxx)\n",
    "xxx"
   ]
  },
  {
   "cell_type": "code",
   "execution_count": 8,
   "metadata": {
    "collapsed": false
   },
   "outputs": [
    {
     "data": {
      "text/latex": [
       "$$\\left\\{0, 1, - \\frac{1}{2 η ωA - 2 η ωB - 4 ωA + 4 ωB} \\left(- η ωA + η ωB + ωA - 3 ωB + \\sqrt{η^{2} ωA^{2} - 2 η^{2} ωA ωB + η^{2} ωB^{2} - 2 η ωA^{2} + 4 η ωA ωB - 2 η ωB^{2} + ωA^{2} + 2 ωA ωB + ωB^{2}}\\right), \\frac{1}{2 η ωA - 2 η ωB - 4 ωA + 4 ωB} \\left(η ωA - η ωB - ωA + 3 ωB + \\sqrt{η^{2} ωA^{2} - 2 η^{2} ωA ωB + η^{2} ωB^{2} - 2 η ωA^{2} + 4 η ωA ωB - 2 η ωB^{2} + ωA^{2} + 2 ωA ωB + ωB^{2}}\\right)\\right\\} \\setminus \\left\\{- \\frac{ωB}{ωA - ωB}, - \\frac{\\sqrt{\\left(η - 1\\right) \\left(η ωA^{2} - 2 η ωA ωB + η ωB^{2} - ωA^{2} - 2 ωA ωB - ωB^{2}\\right)} \\left(ωA - ωB\\right)}{2 η ωA^{2} - 4 η ωA ωB + 2 η ωB^{2} - 2 ωA^{2} + 4 ωA ωB - 2 ωB^{2}} + \\frac{1}{2}, \\frac{\\sqrt{\\left(η - 1\\right) \\left(η ωA^{2} - 2 η ωA ωB + η ωB^{2} - ωA^{2} - 2 ωA ωB - ωB^{2}\\right)} \\left(ωA - ωB\\right)}{2 η ωA^{2} - 4 η ωA ωB + 2 η ωB^{2} - 2 ωA^{2} + 4 ωA ωB - 2 ωB^{2}} + \\frac{1}{2}\\right\\}$$"
      ],
      "text/plain": [
       "⎧       ⎛                              _______________________________________\n",
       "⎪       ⎜                             ╱  2   2      2          2   2         2\n",
       "⎨      -⎝-η⋅ωA + η⋅ωB + ωA - 3⋅ωB + ╲╱  η ⋅ωA  - 2⋅η ⋅ωA⋅ωB + η ⋅ωB  - 2⋅η⋅ωA \n",
       "⎪0, 1, ───────────────────────────────────────────────────────────────────────\n",
       "⎩                                                  2⋅η⋅ωA - 2⋅η⋅ωB - 4⋅ωA + 4⋅\n",
       "                                                                              \n",
       "                                                                              \n",
       "\n",
       "_____________________________________________⎞                                \n",
       "                     2     2               2 ⎟                               ╱\n",
       " + 4⋅η⋅ωA⋅ωB - 2⋅η⋅ωB  + ωA  + 2⋅ωA⋅ωB + ωB  ⎠   η⋅ωA - η⋅ωB - ωA + 3⋅ωB + ╲╱ \n",
       "───────────────────────────────────────────────, ─────────────────────────────\n",
       "ωB                                                                            \n",
       "                                                                              \n",
       "                                                                              \n",
       "\n",
       "______________________________________________________________________________\n",
       "  2   2      2          2   2         2                     2     2           \n",
       " η ⋅ωA  - 2⋅η ⋅ωA⋅ωB + η ⋅ωB  - 2⋅η⋅ωA  + 4⋅η⋅ωA⋅ωB - 2⋅η⋅ωB  + ωA  + 2⋅ωA⋅ωB \n",
       "──────────────────────────────────────────────────────────────────────────────\n",
       "             2⋅η⋅ωA - 2⋅η⋅ωB - 4⋅ωA + 4⋅ωB                                    \n",
       "                                                                              \n",
       "                                                                              \n",
       "\n",
       "______⎫   ⎧              _____________________________________________________\n",
       "    2 ⎪   ⎪             ╱         ⎛    2                   2     2            \n",
       "+ ωB  ⎬   ⎪  -ωB      ╲╱  (η - 1)⋅⎝η⋅ωA  - 2⋅η⋅ωA⋅ωB + η⋅ωB  - ωA  - 2⋅ωA⋅ωB -\n",
       "──────⎪ \\ ⎨───────, - ────────────────────────────────────────────────────────\n",
       "      ⎭   ⎪ωA - ωB                ⎛    2                   2     2            \n",
       "          ⎪                     2⋅⎝η⋅ωA  - 2⋅η⋅ωA⋅ωB + η⋅ωB  - ωA  + 2⋅ωA⋅ωB -\n",
       "          ⎩                                                                   \n",
       "\n",
       "______                   _____________________________________________________\n",
       "   2⎞                   ╱         ⎛    2                   2     2            \n",
       " ωB ⎠ ⋅(ωA - ωB)   1  ╲╱  (η - 1)⋅⎝η⋅ωA  - 2⋅η⋅ωA⋅ωB + η⋅ωB  - ωA  - 2⋅ωA⋅ωB -\n",
       "──────────────── + ─, ────────────────────────────────────────────────────────\n",
       "   2⎞              2              ⎛    2                   2     2            \n",
       " ωB ⎠                           2⋅⎝η⋅ωA  - 2⋅η⋅ωA⋅ωB + η⋅ωB  - ωA  + 2⋅ωA⋅ωB -\n",
       "                                                                              \n",
       "\n",
       "______              ⎫\n",
       "   2⎞               ⎪\n",
       " ωB ⎠ ⋅(ωA - ωB)   1⎪\n",
       "──────────────── + ─⎬\n",
       "   2⎞              2⎪\n",
       " ωB ⎠               ⎪\n",
       "                    ⎭"
      ]
     },
     "execution_count": 8,
     "metadata": {},
     "output_type": "execute_result"
    }
   ],
   "source": [
    "sols = solveset(xxx - x, x)\n",
    "sols"
   ]
  },
  {
   "cell_type": "code",
   "execution_count": 16,
   "metadata": {
    "collapsed": false
   },
   "outputs": [
    {
     "name": "stdout",
     "output_type": "stream",
     "text": [
      "{0, 1, -(-η*ωA + η*ωB + ωA - 3*ωB + sqrt(η**2*ωA**2 - 2*η**2*ωA*ωB + η**2*ωB**2 - 2*η*ωA**2 + 4*η*ωA*ωB - 2*η*ωB**2 + ωA**2 + 2*ωA*ωB + ωB**2))/(2*η*ωA - 2*η*ωB - 4*ωA + 4*ωB), (η*ωA - η*ωB - ωA + 3*ωB + sqrt(η**2*ωA**2 - 2*η**2*ωA*ωB + η**2*ωB**2 - 2*η*ωA**2 + 4*η*ωA*ωB - 2*η*ωB**2 + ωA**2 + 2*ωA*ωB + ωB**2))/(2*η*ωA - 2*η*ωB - 4*ωA + 4*ωB)} \\ {-ωB/(ωA - ωB), -sqrt((η - 1)*(η*ωA**2 - 2*η*ωA*ωB + η*ωB**2 - ωA**2 - 2*ωA*ωB - ωB**2))*(ωA - ωB)/(2*(η*ωA**2 - 2*η*ωA*ωB + η*ωB**2 - ωA**2 + 2*ωA*ωB - ωB**2)) + 1/2, sqrt((η - 1)*(η*ωA**2 - 2*η*ωA*ωB + η*ωB**2 - ωA**2 - 2*ωA*ωB - ωB**2))*(ωA - ωB)/(2*(η*ωA**2 - 2*η*ωA*ωB + η*ωB**2 - ωA**2 + 2*ωA*ωB - ωB**2)) + 1/2}\n"
     ]
    }
   ],
   "source": [
    "print(sols)"
   ]
  },
  {
   "cell_type": "code",
   "execution_count": 20,
   "metadata": {
    "collapsed": false
   },
   "outputs": [],
   "source": [
    "sol0, sol1, sol2, sol3 = 0, 1, -(-η*ωA + η*ωB + ωA - 3*ωB + sqrt(η**2*ωA**2 - 2*η**2*ωA*ωB + η**2*ωB**2 - 2*η*ωA**2 + 4*η*ωA*ωB - 2*η*ωB**2 + ωA**2 + 2*ωA*ωB + ωB**2))/(2*η*ωA - 2*η*ωB - 4*ωA + 4*ωB), (η*ωA - η*ωB - ωA + 3*ωB + sqrt(η**2*ωA**2 - 2*η**2*ωA*ωB + η**2*ωB**2 - 2*η*ωA**2 + 4*η*ωA*ωB - 2*η*ωB**2 + ωA**2 + 2*ωA*ωB + ωB**2))/(2*η*ωA - 2*η*ωB - 4*ωA + 4*ωB)"
   ]
  },
  {
   "cell_type": "code",
   "execution_count": 30,
   "metadata": {
    "collapsed": false
   },
   "outputs": [
    {
     "data": {
      "image/png": "[encoded data removed]",
      "text/latex": [
       "$$\\frac{1}{2 η ωA - 2 η ωB - 4 ωA + 4 ωB} \\left(η ωA - η ωB - ωA + 3 ωB - \\sqrt{η^{2} ωA^{2} - 2 η^{2} ωA ωB + η^{2} ωB^{2} - 2 η ωA^{2} + 4 η ωA ωB - 2 η ωB^{2} + ωA^{2} + 2 ωA ωB + ωB^{2}}\\right)$$"
      ],
      "text/plain": [
       "                             _________________________________________________\n",
       "                            ╱  2   2      2          2   2         2          \n",
       "η⋅ωA - η⋅ωB - ωA + 3⋅ωB - ╲╱  η ⋅ωA  - 2⋅η ⋅ωA⋅ωB + η ⋅ωB  - 2⋅η⋅ωA  + 4⋅η⋅ωA⋅\n",
       "──────────────────────────────────────────────────────────────────────────────\n",
       "                                          2⋅η⋅ωA - 2⋅η⋅ωB - 4⋅ωA + 4⋅ωB       \n",
       "\n",
       "___________________________________\n",
       "           2     2               2 \n",
       "ωB - 2⋅η⋅ωB  + ωA  + 2⋅ωA⋅ωB + ωB  \n",
       "───────────────────────────────────\n",
       "                                   "
      ]
     },
     "execution_count": 30,
     "metadata": {},
     "output_type": "execute_result"
    }
   ],
   "source": [
    "sol2"
   ]
  },
  {
   "cell_type": "code",
   "execution_count": 31,
   "metadata": {
    "collapsed": false
   },
   "outputs": [
    {
     "data": {
      "image/png": "[encoded data removed]",
      "text/latex": [
       "$$\\frac{1}{2 η ωA - 2 η ωB - 4 ωA + 4 ωB} \\left(η ωA - η ωB - ωA + 3 ωB + \\sqrt{η^{2} ωA^{2} - 2 η^{2} ωA ωB + η^{2} ωB^{2} - 2 η ωA^{2} + 4 η ωA ωB - 2 η ωB^{2} + ωA^{2} + 2 ωA ωB + ωB^{2}}\\right)$$"
      ],
      "text/plain": [
       "                             _________________________________________________\n",
       "                            ╱  2   2      2          2   2         2          \n",
       "η⋅ωA - η⋅ωB - ωA + 3⋅ωB + ╲╱  η ⋅ωA  - 2⋅η ⋅ωA⋅ωB + η ⋅ωB  - 2⋅η⋅ωA  + 4⋅η⋅ωA⋅\n",
       "──────────────────────────────────────────────────────────────────────────────\n",
       "                                          2⋅η⋅ωA - 2⋅η⋅ωB - 4⋅ωA + 4⋅ωB       \n",
       "\n",
       "___________________________________\n",
       "           2     2               2 \n",
       "ωB - 2⋅η⋅ωB  + ωA  + 2⋅ωA⋅ωB + ωB  \n",
       "───────────────────────────────────\n",
       "                                   "
      ]
     },
     "execution_count": 31,
     "metadata": {},
     "output_type": "execute_result"
    }
   ],
   "source": [
    "sol3"
   ]
  },
  {
   "cell_type": "code",
   "execution_count": 24,
   "metadata": {
    "collapsed": false
   },
   "outputs": [
    {
     "data": {
      "image/png": "[encoded data removed]",
      "text/latex": [
       "$$\\frac{1}{η ωA - η ωB - 2 ωA + 2 ωB} \\left(x^{2} η ωA - x^{2} η ωB - 2 x^{2} ωA + 2 x^{2} ωB - x η ωA + x η ωB + x ωA - 3 x ωB + ωB\\right)$$"
      ],
      "text/plain": [
       " 2         2           2         2                                          \n",
       "x ⋅η⋅ωA - x ⋅η⋅ωB - 2⋅x ⋅ωA + 2⋅x ⋅ωB - x⋅η⋅ωA + x⋅η⋅ωB + x⋅ωA - 3⋅x⋅ωB + ωB\n",
       "────────────────────────────────────────────────────────────────────────────\n",
       "                         η⋅ωA - η⋅ωB - 2⋅ωA + 2⋅ωB                          "
      ]
     },
     "execution_count": 24,
     "metadata": {},
     "output_type": "execute_result"
    }
   ],
   "source": [
    "simplify((x-sol2)*(x-sol3))"
   ]
  },
  {
   "cell_type": "code",
   "execution_count": 97,
   "metadata": {
    "collapsed": true
   },
   "outputs": [],
   "source": [
    "import numpy as np\n",
    "%matplotlib inline\n",
    "import matplotlib.pyplot as plt\n",
    "import seaborn as sns\n",
    "sns.set_style('white')"
   ]
  },
  {
   "cell_type": "code",
   "execution_count": 107,
   "metadata": {
    "collapsed": false
   },
   "outputs": [
    {
     "data": {
      "image/png": "[encoded data removed]",
      "text/plain": [
       "<matplotlib.figure.Figure at 0x1131c27b8>"
      ]
     },
     "metadata": {},
     "output_type": "display_data"
    }
   ],
   "source": [
    "fig, axes = plt.subplots(2, 2, figsize=(8, 8), sharex=False, sharey=False)\n",
    "params = [[0.1, 1, 0], [0.1, 0, 1], [0.1, 1, 0.8], [0.01, 0.8, 1]]\n",
    "times = [100, 100, 3000, 15000]\n",
    "\n",
    "for (η_, ωA_, ωB_), n, ax in zip(params, times, axes.flat):\n",
    "    subs = [(η, η_), (ωA, ωA_), (ωB, ωB_)]\n",
    "    sol = sol2.subs(subs)\n",
    "    if sol.is_finite and 0 <= sol <=1:\n",
    "        pass\n",
    "    else:\n",
    "        sol = sol3.subs(subs)\n",
    "    x_ = np.empty(n)\n",
    "    x_[0] = 0.5\n",
    "    for t in range(1, n):\n",
    "        x_[t] = xxx.subs(subs + [(x, x_[t-1])])\n",
    "    ax.plot(x_)\n",
    "    ax.axhline(sol, color='k', ls='--')\n",
    "    ax.set(\n",
    "        xlabel='time',\n",
    "        ylabel='x',\n",
    "        title='η={}, ωA={}, ωB={}'.format(η_, ωA_, ωB_)\n",
    "    )\n",
    "fig.tight_layout()\n",
    "sns.despine()\n",
    "fig.savefig('figures/sympy_for_uri.pdf');"
   ]
  },
  {
   "cell_type": "code",
   "execution_count": 109,
   "metadata": {
    "collapsed": false
   },
   "outputs": [],
   "source": [
    "fig.savefig('figures/sympy_for_uri.pdf');"
   ]
  },
  {
   "cell_type": "code",
   "execution_count": null,
   "metadata": {
    "collapsed": true
   },
   "outputs": [],
   "source": []
  }
 ],
 "metadata": {
  "anaconda-cloud": {},
  "kernelspec": {
   "display_name": "Python [conda env:Milpitas]",
   "language": "python",
   "name": "conda-env-Milpitas-py"
  },
  "language_info": {
   "codemirror_mode": {
    "name": "ipython",
    "version": 3
   },
   "file_extension": ".py",
   "mimetype": "text/x-python",
   "name": "python",
   "nbconvert_exporter": "python",
   "pygments_lexer": "ipython3",
   "version": "3.5.2"
  }
 },
 "nbformat": 4,
 "nbformat_minor": 1
}
