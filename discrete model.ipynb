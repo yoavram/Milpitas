{
 "cells": [
  {
   "cell_type": "code",
   "execution_count": 1,
   "metadata": {
    "collapsed": true
   },
   "outputs": [],
   "source": [
    "%matplotlib inline\n",
    "import matplotlib.pyplot as plt\n",
    "import numpy as np\n",
    "import seaborn as sns\n",
    "sns.set(style='ticks')"
   ]
  },
  {
   "cell_type": "markdown",
   "metadata": {},
   "source": [
    "$$\n",
    "\\bar{\\omega} \\pi'_A = \\omega_A \\pi_A (\\pi_A + \\eta \\pi_B) + \\omega_B \\pi_B ((1-\\eta)\\pi_A) \\\\\n",
    "\\bar{\\omega} = \\omega_A \\pi_A + \\omega_B \\pi_B\n",
    "$$"
   ]
  },
  {
   "cell_type": "code",
   "execution_count": 18,
   "metadata": {
    "collapsed": false
   },
   "outputs": [
    {
     "name": "stdout",
     "output_type": "stream",
     "text": [
      "0.47882142483 0.52112312083\n"
     ]
    },
    {
     "data": {
      "image/png": "[encoded data removed]",
      "text/plain": [
       "<matplotlib.figure.Figure at 0x1107a83c8>"
      ]
     },
     "metadata": {},
     "output_type": "display_data"
    }
   ],
   "source": [
    "eta = 0.1\n",
    "wA = 2.0\n",
    "wB = 0.2\n",
    "pA = 0.5\n",
    "tmax = 100\n",
    "\n",
    "pB = 1 - pA\n",
    "p = np.empty(tmax+1)\n",
    "p[0] = pA\n",
    "\n",
    "wA, wB = wB, wA\n",
    "for t in range(tmax):\n",
    "    wbar = wA * pA + wB * pB\n",
    "    pA = (wA * pA * (pA + eta * pB) + wB * pB * ((1 - eta) * pA)) / wbar\n",
    "    pB = 1 - pA\n",
    "#     if np.random.random() < 0.5:\n",
    "#         wA, wB = 2.0, 0.2\n",
    "#     else:\n",
    "#         wA, wB = 0.2, 2.0\n",
    "    wA, wB = wB, wA\n",
    "    p[t+1] = pA\n",
    "\n",
    "plt.plot(p[::2])\n",
    "plt.plot(p[1::2])\n",
    "plt.xlabel('t')\n",
    "plt.ylabel(r'$\\pi_A$')\n",
    "plt.ylim(0, 1)\n",
    "plt.axhline(0.5, color='k')\n",
    "sns.despine()\n",
    "print(p[-2], p[-1])"
   ]
  }
 ],
 "metadata": {
  "kernelspec": {
   "display_name": "Python [conda env:Milpitas]",
   "language": "python",
   "name": "conda-env-Milpitas-py"
  },
  "language_info": {
   "codemirror_mode": {
    "name": "ipython",
    "version": 3
   },
   "file_extension": ".py",
   "mimetype": "text/x-python",
   "name": "python",
   "nbconvert_exporter": "python",
   "pygments_lexer": "ipython3",
   "version": "3.5.2"
  }
 },
 "nbformat": 4,
 "nbformat_minor": 2
}
